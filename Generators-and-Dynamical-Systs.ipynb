{
 "metadata": {
  "name": "",
  "signature": "sha256:b6cae9cd7edc3772adef1249b77a6b4a04ca9a324e52aa278f5f995221355d0e"
 },
 "nbformat": 3,
 "nbformat_minor": 0,
 "worksheets": [
  {
   "cells": [
    {
     "cell_type": "heading",
     "level": 2,
     "metadata": {},
     "source": [
      "<center>Python Generators in Numerical Study of Discrete Dynamical Systems</center>"
     ]
    },
    {
     "cell_type": "markdown",
     "metadata": {},
     "source": [
      "In this IPython Notebook we present generators as an excelent tool provided by Python for computational mathematics in general, and for the numerical study of \n",
      "discrete dynamical systems in particular. "
     ]
    },
    {
     "cell_type": "markdown",
     "metadata": {},
     "source": [
      "Generators functions form a special class of functions. In order to understand objects that are returned by these functions we recall  a few details about iterable objects and   iterators in Python.\n",
      "\n"
     ]
    },
    {
     "cell_type": "markdown",
     "metadata": {},
     "source": [
      "A container in Python  is an object that contains other objects (example of containers are lists, tuples, strings, files, etc).  \n",
      "\n",
      "A container, `Cont`, is  iterable if it is allowed to run over its items \n",
      "with a <tt>for</tt> statement:\n",
      "<pre>\n",
      "for item in  Cont:\n",
      "    print(item)\n",
      "</pre>\n",
      "The lists, strings and tuples are iterable objects.  Dictionaries and files are also iterable."
     ]
    },
    {
     "cell_type": "markdown",
     "metadata": {},
     "source": [
      "Iteration is the process of accessing and returning  one item  at a time from a container."
     ]
    },
    {
     "cell_type": "markdown",
     "metadata": {},
     "source": [
      "Examples:"
     ]
    },
    {
     "cell_type": "code",
     "collapsed": false,
     "input": [
      "from __future__ import print_function"
     ],
     "language": "python",
     "metadata": {},
     "outputs": [],
     "prompt_number": 1
    },
    {
     "cell_type": "code",
     "collapsed": false,
     "input": [
      "L=[2, 5, 1]#list\n",
      "for k in L:\n",
      "    print(k)"
     ],
     "language": "python",
     "metadata": {},
     "outputs": [
      {
       "output_type": "stream",
       "stream": "stdout",
       "text": [
        "2\n",
        "5\n",
        "1\n"
       ]
      }
     ],
     "prompt_number": 2
    },
    {
     "cell_type": "code",
     "collapsed": false,
     "input": [
      "S=\"string\"\n",
      "for c in S:\n",
      "   print(c)\n"
     ],
     "language": "python",
     "metadata": {},
     "outputs": [
      {
       "output_type": "stream",
       "stream": "stdout",
       "text": [
        "s\n",
        "t\n",
        "r\n",
        "i\n",
        "n\n",
        "g\n"
       ]
      }
     ],
     "prompt_number": 3
    },
    {
     "cell_type": "code",
     "collapsed": false,
     "input": [
      "T=(4, 9, 7)#tuple\n",
      "for t in T:\n",
      "    print(t)"
     ],
     "language": "python",
     "metadata": {},
     "outputs": [
      {
       "output_type": "stream",
       "stream": "stdout",
       "text": [
        "4\n",
        "9\n",
        "7\n"
       ]
      }
     ],
     "prompt_number": 4
    },
    {
     "cell_type": "markdown",
     "metadata": {},
     "source": [
      "The iteration over a dictionary  `d` returns the keys:"
     ]
    },
    {
     "cell_type": "code",
     "collapsed": false,
     "input": [
      "d={'lst': [4,7,1], 'today': 'monday', 'nr': 10}\n",
      "\n",
      "for item in d:\n",
      "    print(item)"
     ],
     "language": "python",
     "metadata": {},
     "outputs": [
      {
       "output_type": "stream",
       "stream": "stdout",
       "text": [
        "lst\n",
        "nr\n",
        "today\n"
       ]
      }
     ],
     "prompt_number": 5
    },
    {
     "cell_type": "markdown",
     "metadata": {},
     "source": [
      "An iteration over a file object returns the file's lines:"
     ]
    },
    {
     "cell_type": "code",
     "collapsed": false,
     "input": [
      "f=open(\"toyfile.txt\")# f is a file object i.e.  a container for the file's lines \n",
      "for line in f:\n",
      "    print(line)"
     ],
     "language": "python",
     "metadata": {},
     "outputs": [
      {
       "output_type": "stream",
       "stream": "stdout",
       "text": [
        "this is the first line\n",
        "\n",
        "second line\n",
        "\n",
        "final line\n",
        "\n"
       ]
      }
     ],
     "prompt_number": 6
    },
    {
     "cell_type": "markdown",
     "metadata": {},
     "source": [
      "The above examples are built-in iterable objects  in Python. \n"
     ]
    },
    {
     "cell_type": "heading",
     "level": 3,
     "metadata": {},
     "source": [
      "Iterators"
     ]
    },
    {
     "cell_type": "markdown",
     "metadata": {},
     "source": [
      " Intuitively, an iterator is an object that produces a stream of items,  according to a prescribed protocol.  \n",
      "\n",
      "From the programming language point of view an  iterator is an object of a class that has the methods `__iter__`, and `__next__`. By the  iterator protocol these methods act as follows:\n",
      "\n",
      "The `__iter__` method returns the iterator object itself, and the `__next__` method returns the next item of the stream.\n",
      "\n"
     ]
    },
    {
     "cell_type": "markdown",
     "metadata": {},
     "source": [
      "How does a container, that is an iterable object, relate with an iterator?\n",
      "\n",
      "The built-in function `iter` takes  a container and returns an iterator."
     ]
    },
    {
     "cell_type": "markdown",
     "metadata": {},
     "source": [
      "In all the above examples,  `for item in Cont` launches the iterator protocol.\n",
      " The `for` statement calls `iter()` on the container object. \n",
      "\n",
      "  -  `iter(Cont)` is an iterator object and by calling  the `next()` method \n",
      "    are accessed the  container's items, one at a time. \n",
      "\n",
      "  - When there are no more items, `next()`\n",
      "    raises a `StopIteration` exception,  which  forces the `for` loop to terminate.\n",
      "   "
     ]
    },
    {
     "cell_type": "markdown",
     "metadata": {},
     "source": [
      "Let us explicitly call `iter()` on the list, L,  and file object f, defined above:\n"
     ]
    },
    {
     "cell_type": "code",
     "collapsed": false,
     "input": [
      "itL=iter(L)\n",
      "print (itL.next(), itL.next(), itL.next())"
     ],
     "language": "python",
     "metadata": {},
     "outputs": [
      {
       "output_type": "stream",
       "stream": "stdout",
       "text": [
        "2 5 1\n"
       ]
      }
     ],
     "prompt_number": 7
    },
    {
     "cell_type": "code",
     "collapsed": false,
     "input": [
      "Itf=iter(f)#iterator associated  to the file object f\n",
      "\n",
      "print (Itf.next())"
     ],
     "language": "python",
     "metadata": {},
     "outputs": [
      {
       "ename": "StopIteration",
       "evalue": "",
       "output_type": "pyerr",
       "traceback": [
        "\u001b[1;31m---------------------------------------------------------------------------\u001b[0m\n\u001b[1;31mStopIteration\u001b[0m                             Traceback (most recent call last)",
        "\u001b[1;32m<ipython-input-8-6e3b9f371c5b>\u001b[0m in \u001b[0;36m<module>\u001b[1;34m()\u001b[0m\n\u001b[0;32m      1\u001b[0m \u001b[0mItf\u001b[0m\u001b[1;33m=\u001b[0m\u001b[0miter\u001b[0m\u001b[1;33m(\u001b[0m\u001b[0mf\u001b[0m\u001b[1;33m)\u001b[0m\u001b[1;31m#iterator associated  to the file object f\u001b[0m\u001b[1;33m\u001b[0m\u001b[0m\n\u001b[0;32m      2\u001b[0m \u001b[1;33m\u001b[0m\u001b[0m\n\u001b[1;32m----> 3\u001b[1;33m \u001b[1;32mprint\u001b[0m \u001b[1;33m(\u001b[0m\u001b[0mItf\u001b[0m\u001b[1;33m.\u001b[0m\u001b[0mnext\u001b[0m\u001b[1;33m(\u001b[0m\u001b[1;33m)\u001b[0m\u001b[1;33m)\u001b[0m\u001b[1;33m\u001b[0m\u001b[0m\n\u001b[0m",
        "\u001b[1;31mStopIteration\u001b[0m: "
       ]
      }
     ],
     "prompt_number": 8
    },
    {
     "cell_type": "markdown",
     "metadata": {},
     "source": [
      "We notice that  calling three times the next() method for the iterator associated to the list, L,\n",
      " all three  items are successively returned, while a single call `Itf.next()`  for the iterator associated to the file object, raises the `StopIteration`\n",
      "exception. This means that the stream of lines was exhausted when we called `for line in f`, and no \n",
      " line can be accessed again.\n",
      "\n",
      "\n",
      "If we reopen the file its lines are also accessible:\n"
     ]
    },
    {
     "cell_type": "code",
     "collapsed": false,
     "input": [
      "itf=iter(open('toyfile.txt'))\n",
      "for _ in xrange(3):\n",
      "    print(itf.next())\n"
     ],
     "language": "python",
     "metadata": {},
     "outputs": [
      {
       "output_type": "stream",
       "stream": "stdout",
       "text": [
        "this is the first line\n",
        "\n",
        "second line\n",
        "\n",
        "final line\n",
        "\n"
       ]
      }
     ],
     "prompt_number": 9
    },
    {
     "cell_type": "markdown",
     "metadata": {},
     "source": [
      "Hence the  iterators associated to built-in containers can exhibit  different behaviours. While the lists can be iterated as many times as we want, a file can be iterated only once."
     ]
    },
    {
     "cell_type": "markdown",
     "metadata": {},
     "source": [
      "The reader can experiment the behavior of the iterators `iter(S)`, `iter(T)`, and `iter(d)`, associated to the string S,\n",
      "tuple, T, and dictionary, d, defined above."
     ]
    },
    {
     "cell_type": "markdown",
     "metadata": {},
     "source": [
      "We conclude that:"
     ]
    },
    {
     "cell_type": "markdown",
     "metadata": {},
     "source": [
      "Iterables are objects that define an iterator when they are passed to the `iter()` built-in function."
     ]
    },
    {
     "cell_type": "heading",
     "level": 3,
     "metadata": {},
     "source": [
      "Generators"
     ]
    },
    {
     "cell_type": "markdown",
     "metadata": {},
     "source": [
      "Generators functions provide a  powerful tool for creating iterators."
     ]
    },
    {
     "cell_type": "markdown",
     "metadata": {},
     "source": [
      "A generator function is defined as any function in Python using `def`. A function is a generator function if it contains one or more  <tt> yield </tt>  statements within its body."
     ]
    },
    {
     "cell_type": "markdown",
     "metadata": {},
     "source": [
      "The generator function below will generate  the multiple of 3  of positive integer numbers, less than $n$:"
     ]
    },
    {
     "cell_type": "code",
     "collapsed": false,
     "input": [
      "def gen_mult3(n):\n",
      "    k=0\n",
      "    while (k<n):\n",
      "        yield 3*k\n",
      "        k+=1"
     ],
     "language": "python",
     "metadata": {},
     "outputs": [],
     "prompt_number": 10
    },
    {
     "cell_type": "markdown",
     "metadata": {},
     "source": [
      "The first call of the generator function defines a generator, i.e. a  particular iterator object:"
     ]
    },
    {
     "cell_type": "code",
     "collapsed": false,
     "input": [
      "G=gen_mult3(5)\n",
      "print(G)"
     ],
     "language": "python",
     "metadata": {},
     "outputs": [
      {
       "output_type": "stream",
       "stream": "stdout",
       "text": [
        "<generator object gen_mult3 at 0x0000000004156E10>\n"
       ]
      }
     ],
     "prompt_number": 11
    },
    {
     "cell_type": "markdown",
     "metadata": {},
     "source": [
      "After this call  the numbers 0, 3, 6, 9, 12 are not yet generated as we could expect."
     ]
    },
    {
     "cell_type": "markdown",
     "metadata": {},
     "source": [
      "Iterating the generator G (which is an iterator), by calling successively `G.next()`,\n",
      " these numbers are produced one at atime, and at the sixth call a `StopIteration` exception is raised because the generator exhausted:"
     ]
    },
    {
     "cell_type": "code",
     "collapsed": false,
     "input": [
      "for _ in range(6):\n",
      "    print( G.next() )"
     ],
     "language": "python",
     "metadata": {},
     "outputs": [
      {
       "output_type": "stream",
       "stream": "stdout",
       "text": [
        "0\n",
        "3\n",
        "6\n",
        "9\n",
        "12\n"
       ]
      },
      {
       "ename": "StopIteration",
       "evalue": "",
       "output_type": "pyerr",
       "traceback": [
        "\u001b[1;31m---------------------------------------------------------------------------\u001b[0m\n\u001b[1;31mStopIteration\u001b[0m                             Traceback (most recent call last)",
        "\u001b[1;32m<ipython-input-12-d3d7dfa40120>\u001b[0m in \u001b[0;36m<module>\u001b[1;34m()\u001b[0m\n\u001b[0;32m      1\u001b[0m \u001b[1;32mfor\u001b[0m \u001b[0m_\u001b[0m \u001b[1;32min\u001b[0m \u001b[0mrange\u001b[0m\u001b[1;33m(\u001b[0m\u001b[1;36m6\u001b[0m\u001b[1;33m)\u001b[0m\u001b[1;33m:\u001b[0m\u001b[1;33m\u001b[0m\u001b[0m\n\u001b[1;32m----> 2\u001b[1;33m     \u001b[1;32mprint\u001b[0m\u001b[1;33m(\u001b[0m \u001b[0mG\u001b[0m\u001b[1;33m.\u001b[0m\u001b[0mnext\u001b[0m\u001b[1;33m(\u001b[0m\u001b[1;33m)\u001b[0m \u001b[1;33m)\u001b[0m\u001b[1;33m\u001b[0m\u001b[0m\n\u001b[0m",
        "\u001b[1;31mStopIteration\u001b[0m: "
       ]
      }
     ],
     "prompt_number": 12
    },
    {
     "cell_type": "markdown",
     "metadata": {},
     "source": [
      "A generator makes a lazzy evaluation, meaning that  it yields a value (an object) only  on demand\n",
      "(when it is needed)."
     ]
    },
    {
     "cell_type": "markdown",
     "metadata": {},
     "source": [
      "In order to understand the difference between a Python generator function and a regular function, we recall how behaves\n",
      "a regular function that contains at least  a <tt>return </tt> statement. \n",
      "\n",
      "At each call of a regular function a private namespace is associated. \n",
      "When a  return line is reached in execution,  the local variables are destroyed\n",
      "and the computed object (value) is returned.\n",
      "\n"
     ]
    },
    {
     "cell_type": "markdown",
     "metadata": {},
     "source": [
      "In the case of a generator, after each  yielded value (with `yield`) the function freezes, i.e. \n",
      "     stops its execution. When it is called again, it resumes its execution at the point where it stopped (it \"remembers\"  the last yielded value, and the last executed  statement)."
     ]
    },
    {
     "cell_type": "markdown",
     "metadata": {},
     "source": [
      "To illustrate this behaviour, we insert a few  `print` lines in the definition of the generator function above:"
     ]
    },
    {
     "cell_type": "code",
     "collapsed": false,
     "input": [
      "def Gen_mult3(n):\n",
      "    print( ' this is the first line of the generator function' )\n",
      "    k=0\n",
      "    while (k<n):\n",
      "        print ( 'line before yield' )\n",
      "        yield 3*k\n",
      "        print ( 'line after yield' )\n",
      "        k+=1\n",
      "    print( 'this is the last line of the generator function')    "
     ],
     "language": "python",
     "metadata": {},
     "outputs": [],
     "prompt_number": 13
    },
    {
     "cell_type": "markdown",
     "metadata": {},
     "source": [
      "Define the generator:"
     ]
    },
    {
     "cell_type": "code",
     "collapsed": false,
     "input": [
      "gen=Gen_mult3(3)"
     ],
     "language": "python",
     "metadata": {},
     "outputs": [],
     "prompt_number": 14
    },
    {
     "cell_type": "markdown",
     "metadata": {},
     "source": [
      "Running the above cell no string was printed. Hence at the first call the generator  is only created  and no line of the function's body is executed."
     ]
    },
    {
     "cell_type": "markdown",
     "metadata": {},
     "source": [
      "Now we start iterating the generator `gen`:"
     ]
    },
    {
     "cell_type": "code",
     "collapsed": false,
     "input": [
      "print (gen.next())"
     ],
     "language": "python",
     "metadata": {},
     "outputs": [
      {
       "output_type": "stream",
       "stream": "stdout",
       "text": [
        " this is the first line of the generator function\n",
        "line before yield\n",
        "0\n"
       ]
      }
     ],
     "prompt_number": 15
    },
    {
     "cell_type": "code",
     "collapsed": false,
     "input": [
      "print (gen.next())"
     ],
     "language": "python",
     "metadata": {},
     "outputs": [
      {
       "output_type": "stream",
       "stream": "stdout",
       "text": [
        "line after yield\n",
        "line before yield\n",
        "3\n"
       ]
      }
     ],
     "prompt_number": 16
    },
    {
     "cell_type": "code",
     "collapsed": false,
     "input": [
      "print (gen.next())"
     ],
     "language": "python",
     "metadata": {},
     "outputs": [
      {
       "output_type": "stream",
       "stream": "stdout",
       "text": [
        "line after yield\n",
        "line before yield\n",
        "6\n"
       ]
      }
     ],
     "prompt_number": 17
    },
    {
     "cell_type": "code",
     "collapsed": false,
     "input": [
      "print(gen.next())"
     ],
     "language": "python",
     "metadata": {},
     "outputs": [
      {
       "output_type": "stream",
       "stream": "stdout",
       "text": [
        "line after yield\n",
        "this is the last line of the generator function\n"
       ]
      },
      {
       "ename": "StopIteration",
       "evalue": "",
       "output_type": "pyerr",
       "traceback": [
        "\u001b[1;31m---------------------------------------------------------------------------\u001b[0m\n\u001b[1;31mStopIteration\u001b[0m                             Traceback (most recent call last)",
        "\u001b[1;32m<ipython-input-18-1a3c5c9fbf3d>\u001b[0m in \u001b[0;36m<module>\u001b[1;34m()\u001b[0m\n\u001b[1;32m----> 1\u001b[1;33m \u001b[1;32mprint\u001b[0m\u001b[1;33m(\u001b[0m\u001b[0mgen\u001b[0m\u001b[1;33m.\u001b[0m\u001b[0mnext\u001b[0m\u001b[1;33m(\u001b[0m\u001b[1;33m)\u001b[0m\u001b[1;33m)\u001b[0m\u001b[1;33m\u001b[0m\u001b[0m\n\u001b[0m",
        "\u001b[1;31mStopIteration\u001b[0m: "
       ]
      }
     ],
     "prompt_number": 18
    },
    {
     "cell_type": "markdown",
     "metadata": {},
     "source": [
      "Note that Python generators do not give  access to previously generated items,\n",
      "unless the user  explicitly stored them in some container  (for example in  a list).\n",
      "\n",
      "If we want to iterate again over data produced by a  generator  we  have to\n",
      "re-call the generator function, i.e to re-define the generator."
     ]
    },
    {
     "cell_type": "markdown",
     "metadata": {},
     "source": [
      "Here is an example of storing the generated values in a list:"
     ]
    },
    {
     "cell_type": "code",
     "collapsed": false,
     "input": [
      "ge=gen_mult3(6)\n",
      "L=[ge.next() for _ in xrange(6)]\n",
      "print(L)"
     ],
     "language": "python",
     "metadata": {},
     "outputs": [
      {
       "output_type": "stream",
       "stream": "stdout",
       "text": [
        "[0, 3, 6, 9, 12, 15]\n"
       ]
      }
     ],
     "prompt_number": 19
    },
    {
     "cell_type": "markdown",
     "metadata": {},
     "source": [
      "A built-in generator is `xrange`.  While `range(start, stop, step)` returns a list:"
     ]
    },
    {
     "cell_type": "code",
     "collapsed": false,
     "input": [
      "print(type(range(10)), range(10))"
     ],
     "language": "python",
     "metadata": {},
     "outputs": [
      {
       "output_type": "stream",
       "stream": "stdout",
       "text": [
        "<type 'list'> [0, 1, 2, 3, 4, 5, 6, 7, 8, 9]\n"
       ]
      }
     ],
     "prompt_number": 20
    },
    {
     "cell_type": "markdown",
     "metadata": {},
     "source": [
      "`xrange(start, stop, step)` is a generator function, which could  have an implementation like this:\n",
      "     "
     ]
    },
    {
     "cell_type": "code",
     "collapsed": false,
     "input": [
      "def my_xrange(stop, start=0, step=1):\n",
      "    while start < stop:\n",
      "        yield start\n",
      "        start += step "
     ],
     "language": "python",
     "metadata": {},
     "outputs": [],
     "prompt_number": 21
    },
    {
     "cell_type": "markdown",
     "metadata": {},
     "source": [
      "When `stop` is a large integer  (for example `stop=100000`),  calling `for _ in range(stop)` leads to the creation of a large list, while\n",
      "`for _ in xrange(stop)` will produce an index `k`, `k<stop`, one at a time, and no storing is performed."
     ]
    },
    {
     "cell_type": "heading",
     "level": 3,
     "metadata": {},
     "source": [
      "Python generators in Computational Mathematics"
     ]
    },
    {
     "cell_type": "markdown",
     "metadata": {},
     "source": [
      "Generators allow  to deal with infinite streams of \"mathematical objects\"."
     ]
    },
    {
     "cell_type": "markdown",
     "metadata": {},
     "source": [
      "For example, a sequence of real or complex numbers is an infinite mathematical object.\n",
      "\n",
      "Let $a_n=\\left(1+\\displaystyle\\frac{1}{n}\\right)^n$, $n\\geq 1$, be the sequence that is known as being convergent to the  number e.\n",
      "\n",
      "Its terms can be generated by the folowing generator function:"
     ]
    },
    {
     "cell_type": "code",
     "collapsed": false,
     "input": [
      "def genseq_e():\n",
      "   n=1\n",
      "   while True:\n",
      "      a=(1.0+1.0/n)**n\n",
      "      yield a\n",
      "      n+=1\n",
      "      "
     ],
     "language": "python",
     "metadata": {},
     "outputs": [],
     "prompt_number": 22
    },
    {
     "cell_type": "markdown",
     "metadata": {},
     "source": [
      "Suppose if we want to see how far is $a_{1000}$ from the sequence's limit, $e$.  To generate $a_{1000}$ we simply can\n",
      "iterate the generator `G=genseq_e()`:"
     ]
    },
    {
     "cell_type": "code",
     "collapsed": false,
     "input": [
      "G=genseq_e()\n",
      "for _ in range(1, 1000):\n",
      "    G.next()  \n",
      "    # the last generated value is a999\n",
      "a1000=G.next()    "
     ],
     "language": "python",
     "metadata": {},
     "outputs": [],
     "prompt_number": 23
    },
    {
     "cell_type": "code",
     "collapsed": false,
     "input": [
      "import math"
     ],
     "language": "python",
     "metadata": {},
     "outputs": [],
     "prompt_number": 24
    },
    {
     "cell_type": "code",
     "collapsed": false,
     "input": [
      "print ( a1000, math.exp(1), math.fabs(a1000-math.exp(1.0)) )"
     ],
     "language": "python",
     "metadata": {},
     "outputs": [
      {
       "output_type": "stream",
       "stream": "stdout",
       "text": [
        "2.71692393224 2.71828182846 0.00135789622345\n"
       ]
      }
     ],
     "prompt_number": 25
    },
    {
     "cell_type": "markdown",
     "metadata": {},
     "source": [
      "A more elegant solution is to  slice the infinite generator, using `itertools.islice`\n",
      " [https://docs.python.org/2/library/itertools.html](https://docs.python.org/2/library/itertools.html).\n",
      "\n",
      "`itertools` is a  Python module that contains functions for creating iterators. In particular it allows \n",
      " to work  effectively with generators.\n",
      "\n",
      "\n",
      "When a generator is iterated, the values returned by `G.next()` are counted like the items in any Python sequence.\n",
      "\n",
      "The slice\n",
      "<center> `itertools.islice(generator, start, stop, step )`,  </center>\n",
      "    \n",
      " (where `start`, `stop`, and `step` have the same significance as  for the built-in generator\n",
      "`xrange(start, stop, step)`),\n",
      "is an iterator that produces the generator values (objects) counted from index equal to `start`.\n",
      "\n",
      "The iterator `itertools.islice(generator, n)`    is supposed to have  `start=0`, `stop=n`, and  `step=1`.                                                           "
     ]
    },
    {
     "cell_type": "markdown",
     "metadata": {},
     "source": [
      "Hence to get the term $a_{1000}$ of the sequence $a_n$, we proceed as follows:"
     ]
    },
    {
     "cell_type": "code",
     "collapsed": false,
     "input": [
      "from itertools import islice"
     ],
     "language": "python",
     "metadata": {},
     "outputs": [],
     "prompt_number": 26
    },
    {
     "cell_type": "code",
     "collapsed": false,
     "input": [
      "gg=genseq_e()\n",
      "a1000=islice(gg, 999, 1000).next()\n",
      "print ( a1000, math.exp(1), math.fabs(a1000-math.exp(1.0)) )"
     ],
     "language": "python",
     "metadata": {},
     "outputs": [
      {
       "output_type": "stream",
       "stream": "stdout",
       "text": [
        "2.71692393224 2.71828182846 0.00135789622345\n"
       ]
      }
     ],
     "prompt_number": 27
    },
    {
     "cell_type": "markdown",
     "metadata": {},
     "source": [
      "Python generators can be defined in many contexts of the Computational Math, but here we show how they can be defined and manipulated to study a discrete dynamical system.\n",
      "\n",
      "In this [IPython Notebook](http://nbviewer.ipython.org/github/empet/Math/blob/master/Winding-Number.ipynb) we defined a  generator to animate \n",
      "the movement of a point on a closed curve."
     ]
    },
    {
     "cell_type": "heading",
     "level": 3,
     "metadata": {},
     "source": [
      "Python generators in the  study of discrete dynamical systems"
     ]
    },
    {
     "cell_type": "markdown",
     "metadata": {},
     "source": [
      "A discrete dynamical system on the space $\\mathbb{R}^m$,  is defined usually by a one-to-one\n",
      "differentiable map $f:\\mathbb{R}^m\\to\\mathbb{R}^m$. If $x_0\\in\\mathbb{R}^m$ is the initial state, its orbit or trajectory  is the sequence  $(x_n)_{n\\in\\mathbb{N}}$,  $x_n=f^n(x_0)$, where $f^n$, $n\\geq 1$,  is the $n^{th}$ iterate of the map.\n",
      "\n",
      "The goal of the dynamical system theory is to understand the asymptotic behaviour of  systems' orbits.\n",
      "\n",
      "In the case of a two-dimensional dynamical system we can plot a set of orbits, and the visual representation we get is called  the *phase portrait* of that system."
     ]
    },
    {
     "cell_type": "markdown",
     "metadata": {},
     "source": [
      "In order to illustrate the asymptotic behaviour of an orbit or to draw the phase portrait of a two-dimensional dynamical system, it is very useful to define a generator\n",
      "for an orbit.\n",
      "\n",
      "The generator will produce one point at a time or if it is  necessary, we can take a slice in the infinite generator and store its points in a `list` or a `numpy.array`."
     ]
    },
    {
     "cell_type": "markdown",
     "metadata": {},
     "source": [
      "Experimenting with generator functions that generate points on an orbit,   we deduced that there is a trick in the process of  creation of a list of points resulted by iterating a  slice in that generator.\n",
      "\n",
      "To illustrate how we were lead to that trick  we define a generator of an orbit  for a version of the [H&eacute;non map](http://en.wikipedia.org/wiki/H%C3%A9non_map): \n",
      "\n",
      "$$(x,y)\\mapsto(y, 1-1.4 y^2+0.3x)$$\n",
      "\n"
     ]
    },
    {
     "cell_type": "code",
     "collapsed": false,
     "input": [
      "def gen_Henon(pt0):#pt0 is the initial point given as 2-list\n",
      "    if not isinstance(pt0, list):\n",
      "        raise ValueError(\"pt0 must be a list\")\n",
      "    pt=pt0[:]#shallow copy of pt0; \n",
      "    while True:\n",
      "        yield pt\n",
      "        tmp=pt[0]\n",
      "        pt[0]=pt[1]\n",
      "        pt[1]=1-1.4*pt[1]**2+0.3*tmp\n",
      "    "
     ],
     "language": "python",
     "metadata": {},
     "outputs": [],
     "prompt_number": 28
    },
    {
     "cell_type": "code",
     "collapsed": false,
     "input": [
      "pt0=[0.0, 0.0]\n",
      "G=gen_Henon(pt0)"
     ],
     "language": "python",
     "metadata": {},
     "outputs": [],
     "prompt_number": 29
    },
    {
     "cell_type": "markdown",
     "metadata": {},
     "source": [
      "Let us iterate a   slice in this generator:"
     ]
    },
    {
     "cell_type": "code",
     "collapsed": false,
     "input": [
      "for pt in islice(G, 5, 8):\n",
      "    print (pt)"
     ],
     "language": "python",
     "metadata": {},
     "outputs": [
      {
       "output_type": "stream",
       "stream": "stdout",
       "text": [
        "[-0.7408864000000001, 0.554322279213056]\n",
        "[0.554322279213056, 0.3475516150752599]\n",
        "[0.3475516150752599, 0.9971877085659265]\n"
       ]
      }
     ],
     "prompt_number": 30
    },
    {
     "cell_type": "markdown",
     "metadata": {},
     "source": [
      "Usually to plot an orbit of some length we store  its points  in a list, and plot it with a single call of `plt.scatter`, instead of plotting one point at a time as it is generated.\n",
      "\n",
      "Trying to store the above three points in a list created by comprehension, we notice that the list\n",
      "contains only the last point, displayed three times:"
     ]
    },
    {
     "cell_type": "code",
     "collapsed": false,
     "input": [
      "G=gen_Henon(pt0)# to reiterate the slice we have to call the generator function again\n",
      "L1=[pt for pt in  islice(G, 5, 8)]\n",
      "print(L1)"
     ],
     "language": "python",
     "metadata": {},
     "outputs": [
      {
       "output_type": "stream",
       "stream": "stdout",
       "text": [
        "[[0.3475516150752599, 0.9971877085659265], [0.3475516150752599, 0.9971877085659265], [0.3475516150752599, 0.9971877085659265]]\n"
       ]
      }
     ],
     "prompt_number": 31
    },
    {
     "cell_type": "markdown",
     "metadata": {},
     "source": [
      "Another attempt that fails:"
     ]
    },
    {
     "cell_type": "code",
     "collapsed": false,
     "input": [
      "G=gen_Henon(pt0)\n",
      "L2=[islice(G, 5, 8).next() for _ in range(3)]\n",
      "print(L2)"
     ],
     "language": "python",
     "metadata": {},
     "outputs": [
      {
       "output_type": "stream",
       "stream": "stdout",
       "text": [
        "[[1.179660509719045, -1.0363734689401003], [1.179660509719045, -1.0363734689401003], [1.179660509719045, -1.0363734689401003]]\n"
       ]
      }
     ],
     "prompt_number": 32
    },
    {
     "cell_type": "markdown",
     "metadata": {},
     "source": [
      "Why does the iteration work well when we only iterate the generator, but it fails when trying to create a list from items resulted from the iteration?"
     ]
    },
    {
     "cell_type": "markdown",
     "metadata": {},
     "source": [
      "The same drawback is manifested when we define the generator function with the argument\n",
      " `pt0`  given as a `numpy.array`,\n",
      "and replace the line `pt=pt0[:]` with `pt=pt0.copy()`."
     ]
    },
    {
     "cell_type": "markdown",
     "metadata": {},
     "source": [
      "After  trial and error experimentation we got  a correct list of items   in the following way:"
     ]
    },
    {
     "cell_type": "code",
     "collapsed": false,
     "input": [
      "pt0=[0.0, 0.0]\n",
      "G=gen_Henon(pt0)\n",
      "L3=[list(pt) for pt in islice(G, 5, 8)]\n",
      "print(L3)"
     ],
     "language": "python",
     "metadata": {},
     "outputs": [
      {
       "output_type": "stream",
       "stream": "stdout",
       "text": [
        "[[-0.7408864000000001, 0.554322279213056], [0.554322279213056, 0.3475516150752599], [0.3475516150752599, 0.9971877085659265]]\n"
       ]
      }
     ],
     "prompt_number": 33
    },
    {
     "cell_type": "markdown",
     "metadata": {},
     "source": [
      "This behaviour is really strange, because each `pt` was a list object and this conversion appears\n",
      "to be redundant."
     ]
    },
    {
     "cell_type": "markdown",
     "metadata": {},
     "source": [
      "A similar good result we get converting each `pt` to a `numpy.array`:"
     ]
    },
    {
     "cell_type": "code",
     "collapsed": false,
     "input": [
      "import numpy as np"
     ],
     "language": "python",
     "metadata": {},
     "outputs": [],
     "prompt_number": 34
    },
    {
     "cell_type": "code",
     "collapsed": false,
     "input": [
      "G=gen_Henon(pt0)\n",
      "L4=[np.array(pt) for pt in islice(G, 5, 8)]\n",
      "print(L4)"
     ],
     "language": "python",
     "metadata": {},
     "outputs": [
      {
       "output_type": "stream",
       "stream": "stdout",
       "text": [
        "[array([-0.7408864 ,  0.55432228]), array([ 0.55432228,  0.34755162]), array([ 0.34755162,  0.99718771])]\n"
       ]
      }
     ],
     "prompt_number": 35
    },
    {
     "cell_type": "markdown",
     "metadata": {},
     "source": [
      "A third solution is to explicitly set the type of the object to be  yielded by the generator:"
     ]
    },
    {
     "cell_type": "code",
     "collapsed": false,
     "input": [
      "def gen_Henon_new(pt0):\n",
      "    if not isinstance(pt0, list):\n",
      "        raise ValueError(\"pt0 must be a list\")\n",
      "    pt=pt0[:]#shallow copy of pt0; \n",
      "    while True:\n",
      "        yield pt\n",
      "        tmp=pt[0]\n",
      "        pt=[pt[1], 1-1.4*pt[1]**2+0.3*tmp]#pt is explicitly set as list\n",
      "       \n",
      "    "
     ],
     "language": "python",
     "metadata": {},
     "outputs": [],
     "prompt_number": 36
    },
    {
     "cell_type": "code",
     "collapsed": false,
     "input": [
      "G=gen_Henon_new(pt0)\n",
      "L5=[pt for pt in islice(G, 5,8)]\n",
      "print (L5)"
     ],
     "language": "python",
     "metadata": {},
     "outputs": [
      {
       "output_type": "stream",
       "stream": "stdout",
       "text": [
        "[[-0.7408864000000001, 0.554322279213056], [0.554322279213056, 0.3475516150752599], [0.3475516150752599, 0.9971877085659265]]\n"
       ]
      }
     ],
     "prompt_number": 37
    },
    {
     "cell_type": "markdown",
     "metadata": {},
     "source": [
      "We note that when the yielded object  is explicitly set as list, no conversion is needed when we create the list of \n",
      " items resulted from the iteration."
     ]
    },
    {
     "cell_type": "markdown",
     "metadata": {},
     "source": [
      "Let us check this observed particularity for another generator."
     ]
    },
    {
     "cell_type": "markdown",
     "metadata": {},
     "source": [
      "Namely, we define the generator of pairs of consecutive terms in [Fibonacci sequence](http://en.wikipedia.org/wiki/Fibonacci_number): "
     ]
    },
    {
     "cell_type": "code",
     "collapsed": false,
     "input": [
      "def pair_fibonacci(a=1, b=1):\n",
      "    while True:\n",
      "        yield (a,b)# the yielded object is explicitly set as a tuple\n",
      "        a, b = b, a+b\n"
     ],
     "language": "python",
     "metadata": {},
     "outputs": [],
     "prompt_number": 38
    },
    {
     "cell_type": "code",
     "collapsed": false,
     "input": [
      "genp=pair_fibonacci()\n",
      "L=[pair for pair in islice(genp, 1,15)]\n",
      "print (L)"
     ],
     "language": "python",
     "metadata": {},
     "outputs": [
      {
       "output_type": "stream",
       "stream": "stdout",
       "text": [
        "[(1, 2), (2, 3), (3, 5), (5, 8), (8, 13), (13, 21), (21, 34), (34, 55), (55, 89), (89, 144), (144, 233), (233, 377), (377, 610), (610, 987)]\n"
       ]
      }
     ],
     "prompt_number": 39
    },
    {
     "cell_type": "markdown",
     "metadata": {},
     "source": [
      "The sequence of pairs $(p_n, q_n)$,   $p_1=1, q_1=2$,  produced by this generator, defines the  convergents, \n",
      "$p_n/q_n$, of the continued fraction expansion of the inverse $1/\\phi$ of the [golden ratio](http://mathworld.wolfram.com/GoldenRatio.html)\n",
      "$\\phi=(1+\\sqrt{5})/2$.\n",
      "\n",
      "In the study of [dynamics of twist maps](http://amath.colorado.edu/pub/dynamics/papers/Raglan2011_pt2.pdf), these pairs represent the rotation numbers\n",
      "of the periodic orbits, converging to the invariant 1-dimensional torus (or cantorus) having the rotation number,\n",
      "$1/\\phi$."
     ]
    },
    {
     "cell_type": "markdown",
     "metadata": {},
     "source": [
      "Now we illustrate the phase portrait of the [standard map](http://www.scholarpedia.org/article/Chirikov_standard_map) whose orbits are generated by a generator function."
     ]
    },
    {
     "cell_type": "markdown",
     "metadata": {},
     "source": [
      " The standard  map, $f$, is defined on the infinite annulus $\\mathbb{S}^1\\times \\mathbb{R}$.\n",
      "$\\mathbb{S}^1$ is the unit circle identified with the interval $[0,1)$ or any other real \n",
      "                                                                  interval of length 1.\n",
      "                                                                \n",
      "$f$ maps $(x,y)$ to $(x', y')$, where:\n",
      "\n",
      "$$ \\begin{align}\n",
      "x'&= x+y'\\: (modulo\\: 1)\\\\\n",
      "y'&= y-\\displaystyle\\frac{\\epsilon}{2\\pi}\\sin(2\\pi x), \\quad \\epsilon\\in\\mathbb{R}\n",
      "\\end{align}$$\n",
      "\n"
     ]
    },
    {
     "cell_type": "code",
     "collapsed": false,
     "input": [
      "import matplotlib.pyplot as plt"
     ],
     "language": "python",
     "metadata": {},
     "outputs": [],
     "prompt_number": 40
    },
    {
     "cell_type": "code",
     "collapsed": false,
     "input": [
      "def moduloAB(x, a, b):\n",
      "        if a>=b:\n",
      "           raise ValueError('Incorrect interval ends')\n",
      "        y=(x-a)%(b-a)\n",
      "        if y<0: return y+b\n",
      "        else: return y+a\n",
      "        "
     ],
     "language": "python",
     "metadata": {},
     "outputs": [],
     "prompt_number": 41
    },
    {
     "cell_type": "code",
     "collapsed": false,
     "input": [
      "def stdmap(pt):\n",
      "    global eps\n",
      "    pt[1]-=eps*np.sin(2*np.pi*pt[0])/(2.0*np.pi)\n",
      "    pt[0]=moduloAB(pt[0]+pt[1], -0.5, 0.5)\n",
      "    return pt"
     ],
     "language": "python",
     "metadata": {},
     "outputs": [],
     "prompt_number": 42
    },
    {
     "cell_type": "markdown",
     "metadata": {},
     "source": [
      "We define an orbit generator, and a function that returns a `numpy.array` containing the points of an orbit:"
     ]
    },
    {
     "cell_type": "code",
     "collapsed": false,
     "input": [
      "def gen_stdmap(pt0) :\n",
      "    if not isinstance(pt0, list):\n",
      "        raise ValueError(\"pt0 must be a list\")\n",
      "    pt=pt0[:]\n",
      "    while True:\n",
      "        yield pt\n",
      "        pt=stdmap(pt)# here pt is not explicitly defined as a list"
     ],
     "language": "python",
     "metadata": {},
     "outputs": [],
     "prompt_number": 43
    },
    {
     "cell_type": "code",
     "collapsed": false,
     "input": [
      "def orbit_stdmap(pt0, n):\n",
      "    G=gen_stdmap(pt0)\n",
      "    return np.array([list(G.next()) for _ in xrange(n)]) #conversion   list(G.next())  is needed for\n",
      "                                                         # a right iteration"
     ],
     "language": "python",
     "metadata": {},
     "outputs": [],
     "prompt_number": 44
    },
    {
     "cell_type": "markdown",
     "metadata": {},
     "source": [
      "Let us check first that the function `orbit_stdmap` works correctly:"
     ]
    },
    {
     "cell_type": "code",
     "collapsed": false,
     "input": [
      "eps= 0.971635#  define the global parameter for the standard map\n",
      "pt0=[0, 0.57]\n",
      "A=orbit_stdmap(pt0, 10)\n",
      "print(A[:4])"
     ],
     "language": "python",
     "metadata": {},
     "outputs": [
      {
       "output_type": "stream",
       "stream": "stdout",
       "text": [
        "[[ 0.          0.57      ]\n",
        " [-0.43        0.57      ]\n",
        " [ 0.20584273  0.63584273]\n",
        " [-0.30704121  0.48711606]]\n"
       ]
      }
     ],
     "prompt_number": 45
    },
    {
     "cell_type": "markdown",
     "metadata": {},
     "source": [
      "In the sequel  we plot interactively a few orbits of the standard map, corresponding to the fixed parameter $\\epsilon$.\n",
      "Each orbit is colored with a color from a list of colors that is  cyclically iterated.\n",
      "\n",
      "If we set the  new matplotlib backend `nbagg`:\n",
      "\n",
      "`%matplotlib nbagg`  \n",
      "\n",
      "the phase portrait (i.e. the resulted figure) is inserted inline."
     ]
    },
    {
     "cell_type": "code",
     "collapsed": false,
     "input": [
      "from itertools import cycle"
     ],
     "language": "python",
     "metadata": {},
     "outputs": [],
     "prompt_number": 75
    },
    {
     "cell_type": "code",
     "collapsed": false,
     "input": [
      "cols=['#084594', '#2171b5', '#4292c6', '#6baed6', '#9ecae1', '#c6dbef']#brewer colors\n",
      "colors=cycle(cols)# colors= cyclic iterator"
     ],
     "language": "python",
     "metadata": {},
     "outputs": [],
     "prompt_number": 47
    },
    {
     "cell_type": "markdown",
     "metadata": {},
     "source": [
      "The initial point of each orbit is chosen with a   left mouse button click  within the pop-up window\n",
      "that opens when running the cell below. \n",
      "\n",
      "When we have drawn a sufficient number of orbits such that \n",
      "the structure of the phase portrait is evident, \n",
      " we  either   press the right button of the mouse to save the  plot  as an image or  run the next cell."
     ]
    },
    {
     "cell_type": "code",
     "collapsed": false,
     "input": [
      "%matplotlib nbagg\n",
      "def click(event):\n",
      "   #If the left mouse button is pressed: draw an orbit\n",
      "   tb = plt.get_current_fig_manager().toolbar\n",
      "   n=3000\n",
      "    \n",
      "   if event.button==1 and event.inaxes and tb.mode == '':\n",
      "       x,y = event.xdata,event.ydata\n",
      "       pt0=[x,y]\n",
      "       Pts=orbit_stdmap(pt0, n)\n",
      "       plt.scatter(Pts[:,0], Pts[:,1],  s=0.1,  color=colors.next())  \n",
      "      \n",
      "       plt.draw()\n",
      "   else:\n",
      "        plt.savefig('Imags/stdmap.png')\n",
      "#####################################################################\n",
      "\n",
      "fig = plt.figure(figsize=(6, 4))\n",
      "ax = fig.add_subplot(111)\n",
      "ax.set_axis_bgcolor('#2B2B2B')\n",
      "ax.set_xlim([-0.5, 0.5])\n",
      "ax.set_ylim([-0.5, 1])\n",
      "\n",
      "ax.set_autoscale_on(False)\n",
      "\n",
      "plt.connect('button_press_event',click)\n",
      "plt.show()\n"
     ],
     "language": "python",
     "metadata": {},
     "outputs": [
      {
       "javascript": [
        "/* Put everything inside the global mpl namespace */\n",
        "window.mpl = {};\n",
        "\n",
        "mpl.get_websocket_type = function() {\n",
        "    if (typeof(WebSocket) !== 'undefined') {\n",
        "        return WebSocket;\n",
        "    } else if (typeof(MozWebSocket) !== 'undefined') {\n",
        "        return MozWebSocket;\n",
        "    } else {\n",
        "        alert('Your browser does not have WebSocket support.' +\n",
        "              'Please try Chrome, Safari or Firefox \u2265 6. ' +\n",
        "              'Firefox 4 and 5 are also supported but you ' +\n",
        "              'have to enable WebSockets in about:config.');\n",
        "    };\n",
        "}\n",
        "\n",
        "mpl.figure = function(figure_id, websocket, ondownload, parent_element) {\n",
        "    this.id = figure_id;\n",
        "\n",
        "    this.ws = websocket;\n",
        "\n",
        "    this.supports_binary = (this.ws.binaryType != undefined);\n",
        "\n",
        "    if (!this.supports_binary) {\n",
        "        var warnings = document.getElementById(\"mpl-warnings\");\n",
        "        if (warnings) {\n",
        "            warnings.style.display = 'block';\n",
        "            warnings.textContent = (\n",
        "                \"This browser does not support binary websocket messages. \" +\n",
        "                    \"Performance may be slow.\");\n",
        "        }\n",
        "    }\n",
        "\n",
        "    this.imageObj = new Image();\n",
        "\n",
        "    this.context = undefined;\n",
        "    this.message = undefined;\n",
        "    this.canvas = undefined;\n",
        "    this.rubberband_canvas = undefined;\n",
        "    this.rubberband_context = undefined;\n",
        "    this.format_dropdown = undefined;\n",
        "\n",
        "    this.focus_on_mousover = false;\n",
        "    this.image_mode = 'full';\n",
        "\n",
        "    this.root = $('<div/>');\n",
        "    this.root.attr('style', 'display: inline-block');\n",
        "    $(parent_element).append(this.root);\n",
        "\n",
        "    this._init_header(this);\n",
        "    this._init_canvas(this);\n",
        "    this._init_toolbar(this);\n",
        "\n",
        "    var fig = this;\n",
        "\n",
        "    this.waiting = false;\n",
        "\n",
        "    this.ws.onopen =  function () {\n",
        "            fig.send_message(\"supports_binary\", {value: fig.supports_binary});\n",
        "            fig.send_message(\"send_image_mode\", {});\n",
        "            fig.send_message(\"refresh\", {});\n",
        "        }\n",
        "\n",
        "    this.imageObj.onload = function() {\n",
        "            if (fig.image_mode == 'full') {\n",
        "                // Full images could contain transparency (where diff images\n",
        "                // almost always do), so we need to clear the canvas so that\n",
        "                // there is no ghosting.\n",
        "                fig.context.clearRect(0, 0, fig.canvas.width, fig.canvas.height);\n",
        "            }\n",
        "            fig.context.drawImage(fig.imageObj, 0, 0);\n",
        "            fig.waiting = false;\n",
        "        };\n",
        "\n",
        "    this.imageObj.onunload = function() {\n",
        "        this.ws.close();\n",
        "    }\n",
        "\n",
        "    this.ws.onmessage = this._make_on_message_function(this);\n",
        "\n",
        "    this.ondownload = ondownload;\n",
        "}\n",
        "\n",
        "mpl.figure.prototype._init_header = function() {\n",
        "    var titlebar = $(\n",
        "        '<div class=\"ui-dialog-titlebar ui-widget-header ui-corner-all ' +\n",
        "        'ui-helper-clearfix\"/>');\n",
        "    var titletext = $(\n",
        "        '<div class=\"ui-dialog-title\" style=\"width: 100%; ' +\n",
        "        'text-align: center; padding: 3px;\"/>');\n",
        "    titlebar.append(titletext)\n",
        "    this.root.append(titlebar);\n",
        "    this.header = titletext[0];\n",
        "}\n",
        "\n",
        "mpl.figure.prototype._init_canvas = function() {\n",
        "    var fig = this;\n",
        "\n",
        "    var canvas_div = $('<div/>');\n",
        "    canvas_div.resizable({ resize: mpl.debounce_resize(\n",
        "        function(event, ui) { fig.request_resize(ui.size.width, ui.size.height); }\n",
        "        , 50)});\n",
        "\n",
        "    canvas_div.attr('style', 'position: relative; clear: both;');\n",
        "    this.root.append(canvas_div);\n",
        "\n",
        "    var canvas = $('<canvas/>');\n",
        "    canvas.addClass('mpl-canvas');\n",
        "    canvas.attr('style', \"left: 0; top: 0; z-index: 0;\")\n",
        "\n",
        "    function canvas_keyboard_event(event) {\n",
        "        return fig.key_event(event, event['data']);\n",
        "    }\n",
        "\n",
        "    this.canvas = canvas[0];\n",
        "    this.context = canvas[0].getContext(\"2d\");\n",
        "\n",
        "    var rubberband = $('<canvas/>');\n",
        "    rubberband.attr('style', \"position: absolute; left: 0; top: 0; z-index: 1;\")\n",
        "    function mouse_event_fn(event) {\n",
        "        return fig.mouse_event(event, event['data']);\n",
        "    }\n",
        "    rubberband.mousedown('button_press', mouse_event_fn);\n",
        "    rubberband.mouseup('button_release', mouse_event_fn);\n",
        "    // Throttle sequential mouse events to 1 every 20ms.\n",
        "    rubberband.mousemove('motion_notify', mouse_event_fn);\n",
        "\n",
        "    canvas_div.append(canvas);\n",
        "    canvas_div.append(rubberband);\n",
        "\n",
        "    canvas_div.keydown('key_press', canvas_keyboard_event);\n",
        "    canvas_div.keydown('key_release', canvas_keyboard_event);\n",
        "\n",
        "    this.rubberband = rubberband;\n",
        "    this.rubberband_canvas = rubberband[0];\n",
        "    this.rubberband_context = rubberband[0].getContext(\"2d\");\n",
        "    this.rubberband_context.strokeStyle = \"#000000\";\n",
        "\n",
        "    this._resize_canvas = function(width, height) {\n",
        "        // Keep the size of the canvas, canvas container, and rubber band\n",
        "        // canvas in synch.\n",
        "        canvas_div.css('width', width)\n",
        "        canvas_div.css('height', height)\n",
        "\n",
        "        canvas.attr('width', width);\n",
        "        canvas.attr('height', height);\n",
        "\n",
        "        rubberband.attr('width', width);\n",
        "        rubberband.attr('height', height);\n",
        "    }\n",
        "\n",
        "    // Set the figure to an initial 600x600px, this will subsequently be updated\n",
        "    // upon first draw.\n",
        "    this._resize_canvas(600, 600);\n",
        "}\n",
        "\n",
        "mpl.figure.prototype._init_toolbar = function() {\n",
        "    var fig = this;\n",
        "\n",
        "    var nav_element = $('<div/>')\n",
        "    nav_element.attr('style', 'width: 100%');\n",
        "    this.root.append(nav_element);\n",
        "\n",
        "    // Define a callback function for later on.\n",
        "    function toolbar_event(event) {\n",
        "        return fig.toolbar_button_onclick(event['data']);\n",
        "    }\n",
        "    function toolbar_mouse_event(event) {\n",
        "        return fig.toolbar_button_onmouseover(event['data']);\n",
        "    }\n",
        "\n",
        "    for(var toolbar_ind in mpl.toolbar_items){\n",
        "        var name = mpl.toolbar_items[toolbar_ind][0];\n",
        "        var tooltip = mpl.toolbar_items[toolbar_ind][1];\n",
        "        var image = mpl.toolbar_items[toolbar_ind][2];\n",
        "        var method_name = mpl.toolbar_items[toolbar_ind][3];\n",
        "\n",
        "        if (!name) {\n",
        "            // put a spacer in here.\n",
        "            continue;\n",
        "        }\n",
        "        var button = $('<button/>');\n",
        "        button.addClass('ui-button ui-widget ui-state-default ui-corner-all ' +\n",
        "                        'ui-button-icon-only');\n",
        "        button.attr('role', 'button');\n",
        "        button.attr('aria-disabled', 'false');\n",
        "        button.click(method_name, toolbar_event);\n",
        "        button.mouseover(tooltip, toolbar_mouse_event);\n",
        "\n",
        "        var icon_img = $('<span/>');\n",
        "        icon_img.addClass('ui-button-icon-primary ui-icon');\n",
        "        icon_img.addClass(image);\n",
        "        icon_img.addClass('ui-corner-all');\n",
        "\n",
        "        var tooltip_span = $('<span/>');\n",
        "        tooltip_span.addClass('ui-button-text');\n",
        "        tooltip_span.html(tooltip);\n",
        "\n",
        "        button.append(icon_img);\n",
        "        button.append(tooltip_span);\n",
        "\n",
        "        nav_element.append(button);\n",
        "    }\n",
        "\n",
        "    var fmt_picker_span = $('<span/>');\n",
        "\n",
        "    var fmt_picker = $('<select/>');\n",
        "    fmt_picker.addClass('mpl-toolbar-option ui-widget ui-widget-content');\n",
        "    fmt_picker_span.append(fmt_picker);\n",
        "    nav_element.append(fmt_picker_span);\n",
        "    this.format_dropdown = fmt_picker[0];\n",
        "\n",
        "    for (var ind in mpl.extensions) {\n",
        "        var fmt = mpl.extensions[ind];\n",
        "        var option = $(\n",
        "            '<option/>', {selected: fmt === mpl.default_extension}).html(fmt);\n",
        "        fmt_picker.append(option)\n",
        "    }\n",
        "\n",
        "    // Add hover states to the ui-buttons\n",
        "    $( \".ui-button\" ).hover(\n",
        "        function() { $(this).addClass(\"ui-state-hover\");},\n",
        "        function() { $(this).removeClass(\"ui-state-hover\");}\n",
        "    );\n",
        "\n",
        "    var status_bar = $('<span class=\"mpl-message\"/>');\n",
        "    nav_element.append(status_bar);\n",
        "    this.message = status_bar[0];\n",
        "}\n",
        "\n",
        "mpl.figure.prototype.request_resize = function(x_pixels, y_pixels) {\n",
        "    // Request matplotlib to resize the figure. Matplotlib will then trigger a resize in the client,\n",
        "    // which will in turn request a refresh of the image.\n",
        "    this.send_message('resize', {'width': x_pixels, 'height': y_pixels});\n",
        "}\n",
        "\n",
        "mpl.figure.prototype.send_message = function(type, properties) {\n",
        "    properties['type'] = type;\n",
        "    properties['figure_id'] = this.id;\n",
        "    this.ws.send(JSON.stringify(properties));\n",
        "}\n",
        "\n",
        "mpl.figure.prototype.send_draw_message = function() {\n",
        "    if (!this.waiting) {\n",
        "        this.waiting = true;\n",
        "        this.ws.send(JSON.stringify({type: \"draw\", figure_id: this.id}));\n",
        "    }\n",
        "}\n",
        "\n",
        "mpl.figure.prototype.handle_resize = function(fig, msg) {\n",
        "    var size = msg['size'];\n",
        "    if (size[0] != fig.canvas.width || size[1] != fig.canvas.height) {\n",
        "        fig._resize_canvas(size[0], size[1]);\n",
        "        fig.send_message(\"refresh\", {});\n",
        "    };\n",
        "}\n",
        "\n",
        "mpl.figure.prototype.handle_rubberband = function(fig, msg) {\n",
        "    var x0 = msg['x0'];\n",
        "    var y0 = fig.canvas.height - msg['y0'];\n",
        "    var x1 = msg['x1'];\n",
        "    var y1 = fig.canvas.height - msg['y1'];\n",
        "    x0 = Math.floor(x0) + 0.5;\n",
        "    y0 = Math.floor(y0) + 0.5;\n",
        "    x1 = Math.floor(x1) + 0.5;\n",
        "    y1 = Math.floor(y1) + 0.5;\n",
        "    var min_x = Math.min(x0, x1);\n",
        "    var min_y = Math.min(y0, y1);\n",
        "    var width = Math.abs(x1 - x0);\n",
        "    var height = Math.abs(y1 - y0);\n",
        "\n",
        "    fig.rubberband_context.clearRect(\n",
        "        0, 0, fig.canvas.width, fig.canvas.height);\n",
        "\n",
        "    fig.rubberband_context.strokeRect(min_x, min_y, width, height);\n",
        "}\n",
        "\n",
        "mpl.figure.prototype.handle_figure_label = function(fig, msg) {\n",
        "    // Updates the figure title.\n",
        "    fig.header.textContent = msg['label'];\n",
        "}\n",
        "\n",
        "mpl.figure.prototype.handle_cursor = function(fig, msg) {\n",
        "    var cursor = msg['cursor'];\n",
        "    switch(cursor)\n",
        "    {\n",
        "    case 0:\n",
        "        cursor = 'pointer';\n",
        "        break;\n",
        "    case 1:\n",
        "        cursor = 'default';\n",
        "        break;\n",
        "    case 2:\n",
        "        cursor = 'crosshair';\n",
        "        break;\n",
        "    case 3:\n",
        "        cursor = 'move';\n",
        "        break;\n",
        "    }\n",
        "    fig.rubberband_canvas.style.cursor = cursor;\n",
        "}\n",
        "\n",
        "mpl.figure.prototype.handle_message = function(fig, msg) {\n",
        "    fig.message.textContent = msg['message'];\n",
        "}\n",
        "\n",
        "mpl.figure.prototype.handle_draw = function(fig, msg) {\n",
        "    // Request the server to send over a new figure.\n",
        "    fig.send_draw_message();\n",
        "}\n",
        "\n",
        "mpl.figure.prototype.handle_image_mode = function(fig, msg) {\n",
        "    fig.image_mode = msg['mode'];\n",
        "}\n",
        "\n",
        "mpl.figure.prototype.updated_canvas_event = function() {\n",
        "    // Called whenever the canvas gets updated.\n",
        "    this.send_message(\"ack\", {});\n",
        "}\n",
        "\n",
        "// A function to construct a web socket function for onmessage handling.\n",
        "// Called in the figure constructor.\n",
        "mpl.figure.prototype._make_on_message_function = function(fig) {\n",
        "    return function socket_on_message(evt) {\n",
        "        if (evt.data instanceof Blob) {\n",
        "            /* FIXME: We get \"Resource interpreted as Image but\n",
        "             * transferred with MIME type text/plain:\" errors on\n",
        "             * Chrome.  But how to set the MIME type?  It doesn't seem\n",
        "             * to be part of the websocket stream */\n",
        "            evt.data.type = \"image/png\";\n",
        "\n",
        "            /* Free the memory for the previous frames */\n",
        "            if (fig.imageObj.src) {\n",
        "                (window.URL || window.webkitURL).revokeObjectURL(\n",
        "                    fig.imageObj.src);\n",
        "            }\n",
        "\n",
        "            fig.imageObj.src = (window.URL || window.webkitURL).createObjectURL(\n",
        "                evt.data);\n",
        "            fig.updated_canvas_event();\n",
        "            return;\n",
        "        }\n",
        "        else if (typeof evt.data === 'string' && evt.data.slice(0, 21) == \"data:image/png;base64\") {\n",
        "            fig.imageObj.src = evt.data;\n",
        "            fig.updated_canvas_event();\n",
        "            return;\n",
        "        }\n",
        "\n",
        "        var msg = JSON.parse(evt.data);\n",
        "        var msg_type = msg['type'];\n",
        "\n",
        "        // Call the  \"handle_{type}\" callback, which takes\n",
        "        // the figure and JSON message as its only arguments.\n",
        "        try {\n",
        "            var callback = fig[\"handle_\" + msg_type];\n",
        "        } catch (e) {\n",
        "            console.log(\"No handler for the '\" + msg_type + \"' message type: \", msg);\n",
        "            return;\n",
        "        }\n",
        "\n",
        "        if (callback) {\n",
        "            try {\n",
        "                // console.log(\"Handling '\" + msg_type + \"' message: \", msg);\n",
        "                callback(fig, msg);\n",
        "            } catch (e) {\n",
        "                console.log(\"Exception inside the 'handler_\" + msg_type + \"' callback:\", e, e.stack, msg);\n",
        "            }\n",
        "        }\n",
        "    };\n",
        "}\n",
        "\n",
        "// from http://stackoverflow.com/questions/1114465/getting-mouse-location-in-canvas\n",
        "mpl.findpos = function(e) {\n",
        "    //this section is from http://www.quirksmode.org/js/events_properties.html\n",
        "    var targ;\n",
        "    if (!e)\n",
        "        e = window.event;\n",
        "    if (e.target)\n",
        "        targ = e.target;\n",
        "    else if (e.srcElement)\n",
        "        targ = e.srcElement;\n",
        "    if (targ.nodeType == 3) // defeat Safari bug\n",
        "        targ = targ.parentNode;\n",
        "\n",
        "    // jQuery normalizes the pageX and pageY\n",
        "    // pageX,Y are the mouse positions relative to the document\n",
        "    // offset() returns the position of the element relative to the document\n",
        "    var x = e.pageX - $(targ).offset().left;\n",
        "    var y = e.pageY - $(targ).offset().top;\n",
        "\n",
        "    return {\"x\": x, \"y\": y};\n",
        "};\n",
        "\n",
        "mpl.figure.prototype.mouse_event = function(event, name) {\n",
        "    var canvas_pos = mpl.findpos(event)\n",
        "\n",
        "    if (this.focus_on_mouseover && name === 'motion_notify')\n",
        "    {\n",
        "        this.canvas.focus();\n",
        "    }\n",
        "\n",
        "    var x = canvas_pos.x;\n",
        "    var y = canvas_pos.y;\n",
        "\n",
        "    this.send_message(name, {x: x, y: y, button: event.button});\n",
        "\n",
        "    /* This prevents the web browser from automatically changing to\n",
        "     * the text insertion cursor when the button is pressed.  We want\n",
        "     * to control all of the cursor setting manually through the\n",
        "     * 'cursor' event from matplotlib */\n",
        "    event.preventDefault();\n",
        "    return false;\n",
        "}\n",
        "\n",
        "mpl.figure.prototype.key_event = function(event, name) {\n",
        "    /* Don't fire events just when a modifier is changed.  Modifiers are\n",
        "       sent along with other keys. */\n",
        "    if (event.keyCode >= 16 && event.keyCode <= 20) {\n",
        "        return;\n",
        "    }\n",
        "\n",
        "    value = '';\n",
        "    if (event.ctrlKey) {\n",
        "        value += \"ctrl+\";\n",
        "    }\n",
        "    if (event.altKey) {\n",
        "        value += \"alt+\";\n",
        "    }\n",
        "    value += String.fromCharCode(event.keyCode).toLowerCase();\n",
        "\n",
        "    this.send_message(name, {key: value});\n",
        "}\n",
        "\n",
        "mpl.figure.prototype.toolbar_button_onclick = function(name) {\n",
        "    if (name == 'download') {\n",
        "        var format_dropdown = this.format_dropdown;\n",
        "        var format = format_dropdown.options[format_dropdown.selectedIndex].value;\n",
        "        this.ondownload(this, format);\n",
        "    } else {\n",
        "        this.send_message(\"toolbar_button\", {name: name});\n",
        "    }\n",
        "};\n",
        "\n",
        "mpl.figure.prototype.toolbar_button_onmouseover = function(tooltip) {\n",
        "    this.message.textContent = tooltip;\n",
        "};\n",
        "\n",
        "mpl.debounce_event = function(func, time){\n",
        "    var timer;\n",
        "    return function(event){\n",
        "        clearTimeout(timer);\n",
        "        timer = setTimeout(function(){ func(event); }, time);\n",
        "    };\n",
        "}\n",
        "\n",
        "mpl.debounce_resize = function(func, time){\n",
        "    var timer;\n",
        "    return function(event, ui){\n",
        "        clearTimeout(timer);\n",
        "        timer = setTimeout(function(){ func(event, ui); }, time);\n",
        "    };\n",
        "}\n",
        "mpl.toolbar_items = [[\"Home\", \"Reset original view\", \"fa fa-home icon-home\", \"home\"], [\"Back\", \"Back to  previous view\", \"fa fa-arrow-left icon-arrow-left\", \"back\"], [\"Forward\", \"Forward to next view\", \"fa fa-arrow-right icon-arrow-right\", \"forward\"], [\"\", \"\", \"\", \"\"], [\"Pan\", \"Pan axes with left mouse, zoom with right\", \"fa fa-arrows icon-move\", \"pan\"], [\"Zoom\", \"Zoom to rectangle\", \"fa fa-square-o icon-check-empty\", \"zoom\"], [\"\", \"\", \"\", \"\"]];\n",
        "\n",
        "mpl.extensions = [\"eps\", \"jpeg\", \"pgf\", \"pdf\", \"png\", \"ps\", \"raw\", \"svg\", \"tif\"];\n",
        "\n",
        "mpl.default_extension = \"png\";var comm_websocket_adapter = function(comm) {\n",
        "    // Create a \"websocket\"-like object which calls the given IPython comm\n",
        "    // object with the appropriate methods. Currently this is a non binary\n",
        "    // socket, so there is still some room for performance tuning.\n",
        "    var ws = {};\n",
        "\n",
        "    ws.close = function() {\n",
        "        comm.close()\n",
        "    };\n",
        "    ws.send = function(m) {\n",
        "        //console.log('sending', m);\n",
        "        comm.send(m);\n",
        "    };\n",
        "    // Register the callback with on_msg.\n",
        "    comm.on_msg(function(msg) {\n",
        "        //console.log('receiving', msg['content']['data'], msg);\n",
        "        // Pass the mpl event to the overriden (by mpl) onmessage function.\n",
        "        ws.onmessage(msg['content']['data'])\n",
        "    });\n",
        "    return ws;\n",
        "}\n",
        "\n",
        "mpl.mpl_figure_comm = function(comm, msg) {\n",
        "    // This is the function which gets called when the mpl process\n",
        "    // starts-up an IPython Comm through the \"matplotlib\" channel.\n",
        "\n",
        "    var id = msg.content.data.id;\n",
        "    // Get hold of the div created by the display call when the Comm\n",
        "    // socket was opened in Python.\n",
        "    var element = $(\"#\" + id);\n",
        "    var ws_proxy = comm_websocket_adapter(comm)\n",
        "\n",
        "    var fig = new mpl.figure(id, ws_proxy,\n",
        "                           function() { },\n",
        "                           element.get(0));\n",
        "\n",
        "    // Call onopen now - mpl needs it, as it is assuming we've passed it a real\n",
        "    // web socket which is closed, not our websocket->open comm proxy.\n",
        "    ws_proxy.onopen();\n",
        "\n",
        "    fig.parent_element = element.get(0);\n",
        "    fig.cell_info = mpl.find_output_cell(\"<div id='\" + id + \"'></div>\");\n",
        "\n",
        "    var output_index = fig.cell_info[2]\n",
        "    var cell = fig.cell_info[0];\n",
        "\n",
        "    // Disable right mouse context menu.\n",
        "    $(fig.rubberband_canvas).bind(\"contextmenu\",function(e){\n",
        "        return false;\n",
        "    });\n",
        "\n",
        "};\n",
        "\n",
        "mpl.figure.prototype.handle_close = function(fig, msg) {\n",
        "    // Update the output cell to use the data from the current canvas.\n",
        "    fig.push_to_output();\n",
        "    var dataURL = fig.canvas.toDataURL();\n",
        "    // Re-enable the keyboard manager in IPython - without this line, in FF,\n",
        "    // the notebook keyboard shortcuts fail.\n",
        "    IPython.keyboard_manager.enable()\n",
        "    $(fig.parent_element).html('<img src=\"' + dataURL + '\">');\n",
        "    fig.send_message('closing', {});\n",
        "    fig.ws.close()\n",
        "}\n",
        "\n",
        "mpl.figure.prototype.push_to_output = function(remove_interactive) {\n",
        "    // Turn the data on the canvas into data in the output cell.\n",
        "    var dataURL = this.canvas.toDataURL();\n",
        "    this.cell_info[1]['text/html'] = '<img src=\"' + dataURL + '\">';\n",
        "}\n",
        "\n",
        "mpl.figure.prototype.updated_canvas_event = function() {\n",
        "    // Tell IPython that the notebook contents must change.\n",
        "    IPython.notebook.set_dirty(true);\n",
        "    this.send_message(\"ack\", {});\n",
        "    var fig = this;\n",
        "    // Wait a second, then push the new image to the DOM so\n",
        "    // that it is saved nicely (might be nice to debounce this).\n",
        "    setTimeout(function () { fig.push_to_output() }, 1000);\n",
        "}\n",
        "\n",
        "mpl.figure.prototype._init_toolbar = function() {\n",
        "    var fig = this;\n",
        "\n",
        "    var nav_element = $('<div/>')\n",
        "    nav_element.attr('style', 'width: 100%');\n",
        "    this.root.append(nav_element);\n",
        "\n",
        "    // Define a callback function for later on.\n",
        "    function toolbar_event(event) {\n",
        "        return fig.toolbar_button_onclick(event['data']);\n",
        "    }\n",
        "    function toolbar_mouse_event(event) {\n",
        "        return fig.toolbar_button_onmouseover(event['data']);\n",
        "    }\n",
        "\n",
        "    for(var toolbar_ind in mpl.toolbar_items){\n",
        "        var name = mpl.toolbar_items[toolbar_ind][0];\n",
        "        var tooltip = mpl.toolbar_items[toolbar_ind][1];\n",
        "        var image = mpl.toolbar_items[toolbar_ind][2];\n",
        "        var method_name = mpl.toolbar_items[toolbar_ind][3];\n",
        "\n",
        "        if (!name) { continue; };\n",
        "\n",
        "        var button = $('<button class=\"btn btn-default\" href=\"#\" title=\"' + name + '\"><i class=\"fa ' + image + ' fa-lg\"></i></button>');\n",
        "        button.click(method_name, toolbar_event);\n",
        "        button.mouseover(tooltip, toolbar_mouse_event);\n",
        "        nav_element.append(button);\n",
        "    }\n",
        "\n",
        "    // Add the status bar.\n",
        "    var status_bar = $('<span class=\"mpl-message\" style=\"text-align:right; float: right;\"/>');\n",
        "    nav_element.append(status_bar);\n",
        "    this.message = status_bar[0];\n",
        "\n",
        "    // Add the close button to the window.\n",
        "    var buttongrp = $('<div class=\"btn-group inline pull-right\"></div>');\n",
        "    var button = $('<button class=\"btn btn-mini btn-danger\" href=\"#\" title=\"Close figure\"><i class=\"fa fa-times icon-remove icon-large\"></i></button>');\n",
        "    button.click(function (evt) { fig.handle_close(fig, {}); } );\n",
        "    button.mouseover('Close figure', toolbar_mouse_event);\n",
        "    buttongrp.append(button);\n",
        "    var titlebar = this.root.find($('.ui-dialog-titlebar'));\n",
        "    titlebar.prepend(buttongrp);\n",
        "}\n",
        "\n",
        "mpl.find_output_cell = function(html_output) {\n",
        "    // Return the cell and output element which can be found *uniquely* in the notebook.\n",
        "    // Note - this is a bit hacky, but it is done because the \"notebook_saving.Notebook\"\n",
        "    // IPython event is triggered only after the cells have been serialised, which for\n",
        "    // our purposes (turning an active figure into a static one), is too late.\n",
        "    var cells = IPython.notebook.get_cells();\n",
        "    var ncells = cells.length;\n",
        "    for (var i=0; i<ncells; i++) {\n",
        "        var cell = cells[i];\n",
        "        if (cell.cell_type == 'code'){\n",
        "            for (var j=0; j<cell.output_area.outputs.length; j++) {\n",
        "                var data = cell.output_area.outputs[j];\n",
        "                if (cell.output_area.outputs[j]['text/html'] == html_output) {\n",
        "                    var output = cell.output_area.outputs[j];\n",
        "                    return [cell, output, j];\n",
        "                }\n",
        "            }\n",
        "        }\n",
        "    }\n",
        "}\n",
        "\n",
        "// Register the function which deals with the matplotlib target/channel.\n",
        "// The kernel may be null if the page has been refreshed.\n",
        "if (IPython.notebook.kernel != null) {\n",
        "    IPython.notebook.kernel.comm_manager.register_target('matplotlib', mpl.mpl_figure_comm);\n",
        "}\n"
       ],
       "metadata": {},
       "output_type": "display_data",
       "text": [
        "<IPython.core.display.Javascript at 0xcbadbe0>"
       ]
      },
      {
       "html": [
        "<img src=\"data:image/png;base64,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\">"
       ],
       "metadata": {},
       "output_type": "display_data",
       "text": [
        "<IPython.core.display.HTML at 0xcbadc50>"
       ]
      }
     ],
     "prompt_number": 62
    },
    {
     "cell_type": "markdown",
     "metadata": {},
     "source": [
      "The  generator of an orbit can be used for plotting a (chaotic) attractor of a discrete dynamical system, that is\n",
      "a set $A\\subset\\mathbb{R}^2$, such that for any point $x_0$ sufficiently close to $A$, the distance\n",
      "between the $n^{th}$ point, $x_n=f^n(x_0)$, of its orbit and $A$ tends to 0, as $n\\to\\infty$."
     ]
    },
    {
     "cell_type": "heading",
     "level": 3,
     "metadata": {},
     "source": [
      "Ikeda Attractor"
     ]
    },
    {
     "cell_type": "markdown",
     "metadata": {},
     "source": [
      "[Ikeda map](http://en.wikipedia.org/wiki/Ikeda_map) is a chaotic map of the two dimensional space $\\mathbb{R}^2$ into itself. Its expression can be summarized\n",
      "in complex plane by $f(z)= A+Bze^{i(C+D/(||z||^2+1)}$. \n",
      "\n",
      "We define the generator function of an orbit of the Ikeda map, corresponding to  particular parameters $A,B,C,D$, for which the map\n",
      "exhibits a chaotic attractor.\n",
      "\n",
      "We plot  a slice into a long orbit, neglecting the first 300 points, to ensure that the remaining points approach the attractor very well."
     ]
    },
    {
     "cell_type": "code",
     "collapsed": false,
     "input": [
      "%matplotlib inline"
     ],
     "language": "python",
     "metadata": {},
     "outputs": [],
     "prompt_number": 63
    },
    {
     "cell_type": "code",
     "collapsed": false,
     "input": [
      "def gen_Ikeda(z0):\n",
      "    z=z0\n",
      "    while True:\n",
      "        yield z\n",
      "        z=0.97+0.9*z*np.exp(1j*(0.4-6/(np.abs(z)**2+1)))"
     ],
     "language": "python",
     "metadata": {},
     "outputs": [],
     "prompt_number": 64
    },
    {
     "cell_type": "code",
     "collapsed": false,
     "input": [
      "z0=0.0+1j*0\n",
      "gik=gen_Ikeda(z0)\n",
      "aIkeda=np.array([z for z in islice(gik, 300, 20000)])"
     ],
     "language": "python",
     "metadata": {},
     "outputs": [],
     "prompt_number": 65
    },
    {
     "cell_type": "code",
     "collapsed": false,
     "input": [
      "fig = plt.figure(figsize=(6, 6))\n",
      "ax = fig.add_subplot(111)\n",
      "\n",
      "plt.scatter(aIkeda.real, aIkeda.imag, color= '#b6212d', s=0.1)   "
     ],
     "language": "python",
     "metadata": {},
     "outputs": [
      {
       "metadata": {},
       "output_type": "pyout",
       "prompt_number": 66,
       "text": [
        "<matplotlib.collections.PathCollection at 0xd62f9b0>"
       ]
      },
      {
       "metadata": {},
       "output_type": "display_data",
       "png": "[encoded data removed]",
       "text": [
        "<matplotlib.figure.Figure at 0xd3a5208>"
       ]
      }
     ],
     "prompt_number": 66
    },
    {
     "cell_type": "heading",
     "level": 3,
     "metadata": {},
     "source": [
      "Generator for an IFS  fractal"
     ]
    },
    {
     "cell_type": "markdown",
     "metadata": {},
     "source": [
      "Generators are also useful for generating points of a fractal set defined by an [IFS](http://en.wikipedia.org/wiki/Iterated_function_system) or an IFS with probabilities, \n",
      "that is a finite number of affine contractions, that are chosen according to an assigned probability.\n",
      "\n"
     ]
    },
    {
     "cell_type": "markdown",
     "metadata": {},
     "source": [
      "An affine map, $\\mathcal{A}$, defined on the two-dimensional plane is defined by a $2\\times 2$ matrix $T$, and  a point  $P(a_0, a_1)$:\n",
      "    \n",
      "  $$\\left[\\begin{array}{c} x\\\\y\\end{array}\\right] \\mapsto P+ T\\left[\\begin{array}{c} x\\\\y\\end{array}\\right]$$ "
     ]
    },
    {
     "cell_type": "markdown",
     "metadata": {},
     "source": [
      "The fractal set defined by an IFS consisting in n affine contractions, $C_0, C_1, \\ldots, C_{n-1}$, is an invariant set $A$ of the IFS, that is:\n",
      "    $$A=\\bigcup_{k=0}^{n-1}C_k(A)$$"
     ]
    },
    {
     "cell_type": "markdown",
     "metadata": {},
     "source": [
      "We give the parameters of a contraction as a `numpy.array` of shape (6,). The first four entries correspond to the matrix $T$, and the last two entries are the coordinates of the point $P$."
     ]
    },
    {
     "cell_type": "markdown",
     "metadata": {},
     "source": [
      "Next we plot a fractal set which is the attractor of an IFS consisting in three contractions with probabilities:"
     ]
    },
    {
     "cell_type": "code",
     "collapsed": false,
     "input": [
      "C=[np.array([.4398,  .2848,  .007, .4958,   20.27824, 23.51717]),\n",
      "np.array( [-.2303, .7265, .2381 , .0952,   32.82897,  11.46771]),\n",
      "np.array([ -.3898, .5371, .4751, .5017, 15.75347,  -5.22511])]"
     ],
     "language": "python",
     "metadata": {},
     "outputs": [],
     "prompt_number": 67
    },
    {
     "cell_type": "code",
     "collapsed": false,
     "input": [
      "pr=[ .2507,  .2262,  .5231]#probabilities"
     ],
     "language": "python",
     "metadata": {},
     "outputs": [],
     "prompt_number": 68
    },
    {
     "cell_type": "markdown",
     "metadata": {},
     "source": [
      "Starting with an initial point `pt0`, one generates the  points $C_{i_{m-1}}\\circ\\cdots \\circ C_{i_0}(pt0)$, $m=\\overline{1,15000}$,\n",
      "where each contraction $C_{i_k}$ is chosen according to the discrete probability distribution on the set of contractions' indices $[0,1,2]$,  of probabilities $pr[0], pr[1], pr[2]$."
     ]
    },
    {
     "cell_type": "code",
     "collapsed": false,
     "input": [
      "from numpy.random import choice"
     ],
     "language": "python",
     "metadata": {},
     "outputs": [],
     "prompt_number": 69
    },
    {
     "cell_type": "code",
     "collapsed": false,
     "input": [
      "ind=np.arange(3)# indices for the contractions C[0], C[1], C[2]"
     ],
     "language": "python",
     "metadata": {},
     "outputs": [],
     "prompt_number": 70
    },
    {
     "cell_type": "code",
     "collapsed": false,
     "input": [
      "def gen_IFS(pt0):\n",
      "    pt=pt0[:]\n",
      "    while True:\n",
      "        yield pt\n",
      "        i=choice(ind, p=pr)# choose the contraction index  \n",
      "                           \n",
      "        pt=np.dot(C[i][:4].reshape(2,2), pt)+C[i][4:]"
     ],
     "language": "python",
     "metadata": {},
     "outputs": [],
     "prompt_number": 71
    },
    {
     "cell_type": "code",
     "collapsed": false,
     "input": [
      "    \n",
      "pt0=np.zeros(2, float)\n",
      "G=gen_IFS(pt0)\n",
      "attractor=np.array([pt  for pt in islice(G, 1000, 15000)])\n",
      "\n",
      "fig = plt.figure(figsize=(6, 6))\n",
      "ax = fig.add_subplot(111)\n",
      "plt.scatter(attractor[:,0], attractor[:,1], color= '#00A300', s=0.1)    "
     ],
     "language": "python",
     "metadata": {},
     "outputs": [
      {
       "metadata": {},
       "output_type": "pyout",
       "prompt_number": 72,
       "text": [
        "<matplotlib.collections.PathCollection at 0xd6654a8>"
       ]
      },
      {
       "metadata": {},
       "output_type": "display_data",
       "png": "[encoded data removed]",
       "text": [
        "<matplotlib.figure.Figure at 0xd3abc50>"
       ]
      }
     ],
     "prompt_number": 72
    },
    {
     "cell_type": "markdown",
     "metadata": {},
     "source": [
      "Another application of generator functions in the study of discrete dynamical systems can be in the\n",
      "computation of the derivative of the map defining the system, along an orbit, $(x_n)$, that is:\n",
      "    $$Df^n(x_0)=Df(x_{n-1})\\cdots  Df(x_1) Df(x_0)$$\n",
      "   The derivative along a long orbit is needed for  computing the Lyapunov exponent  of that orbit  or in the case of twist maps, such as the standard  map, to derive the stability type of a periodic orbit."
     ]
    },
    {
     "cell_type": "markdown",
     "metadata": {},
     "source": [
      "If `gen_orbit(pt0)` is the generator of an orbit, `jacobian(pt0)` is the matrix representing the derivative\n",
      "`Df(pt0)`, then the generator for the derivative along the orbit starting at `pt0` would be defined as follows:"
     ]
    },
    {
     "cell_type": "code",
     "collapsed": false,
     "input": [
      "def gen_Deriv(pt0):\n",
      "        J=np.eye(2)\n",
      "        while True: \n",
      "            J=np.dot(jacobian(gen_orbit(pt0).next()),J)\n",
      "            yield J        "
     ],
     "language": "python",
     "metadata": {},
     "outputs": [],
     "prompt_number": 73
    },
    {
     "cell_type": "markdown",
     "metadata": {},
     "source": [
      " `islice(gen_Deriv(pt0), n-1, n).next()` is the matrix of the derivative  $Df^n$`(pt0)`."
     ]
    },
    {
     "cell_type": "markdown",
     "metadata": {},
     "source": [
      "Emilia Petrisor, 11/26/2014"
     ]
    },
    {
     "cell_type": "code",
     "collapsed": false,
     "input": [
      "from IPython.core.display import HTML\n",
      "def  css_styling():\n",
      "    styles = open(\"./styles/custom.css\", \"r\").read()\n",
      "    return HTML(styles)\n",
      "css_styling()"
     ],
     "language": "python",
     "metadata": {},
     "outputs": [
      {
       "html": [
        "<style>\n",
        "        div.cell{\n",
        "        width:800px;\n",
        "        margin-left:16% !important;\n",
        "        margin-right:auto;\n",
        "    }\n",
        "    h1 {\n",
        "        font-family: 'Alegreya Sans', sans-serif;\n",
        "    }\n",
        "    \n",
        "    h2 {\n",
        "        font-family: 'Fenix', serif;\n",
        "        text-indent:1em;\n",
        "    }\n",
        "    .text_cell_render h2 {\n",
        "        font-weight: 200;\n",
        "        font-size: 20pt;\n",
        "        line-height: 100%;\n",
        "        margin-bottom: 1.5em;\n",
        "        margin-top: 0.5em;\n",
        "        display: block;\n",
        "    }\n",
        "    h3 {\n",
        "        font-family: 'Fenix', serif;\n",
        "        %margin-top:12px;\n",
        "        %margin-bottom: 3px;\n",
        "    }\n",
        "    .text_cell_render h3 {\n",
        "        font-weight: 300;\n",
        "        font-size: 18pt;\n",
        "        line-height: 100%;\n",
        "        margin-bottom: 0.5em;\n",
        "        margin-top: 2em;\n",
        "        display: block;\n",
        "    }\n",
        "    h4 {\n",
        "        font-family: 'Fenix', serif;\n",
        "    }\n",
        "    .text_cell_render h4 {\n",
        "        font-weight: 300;\n",
        "        font-size: 16pt;\n",
        "        margin-bottom: 0.5em;\n",
        "        margin-top: 0.5em;\n",
        "        display: block;\n",
        "    }\n",
        "    h5 {\n",
        "        font-family: 'Alegreya Sans', sans-serif;\n",
        "    }\n",
        "    .text_cell_render h5 {\n",
        "        font-weight: 300;\n",
        "        font-style: normal;\n",
        "        font-size: 16pt;\n",
        "        margin-bottom: 0em;\n",
        "        margin-top: 1.5em;\n",
        "        display: block;\n",
        "        }\n",
        "    \n",
        "    div.text_cell_render{\n",
        "        %font-family: Computer Modern, \"Helvetica Neue\", Arial, Helvetica, Geneva, sans-serif;\n",
        "        font-family: 'Alegreya Sans',Computer Modern, \"Helvetica Neue\", Arial, Helvetica, Geneva, sans-serif;\n",
        "        line-height: 145%;\n",
        "        font-size: 130%;\n",
        "        width:800px;\n",
        "        margin-left:auto;\n",
        "        margin-right:auto;\n",
        "    }\n",
        "    blockquote{\n",
        "      display:block;\n",
        "      background: #f3f3f3;\n",
        "      font-family: \"Open sans\",verdana,arial,sans-serif;\n",
        "      width:610px;\n",
        "      padding: 15px 15px 15px 15px;\n",
        "      text-align:justify;\n",
        "      text-justify:inter-word;\n",
        "      }\n",
        "      blockquote p {\n",
        "        margin-bottom: 0;\n",
        "        line-height: 125%;\n",
        "        font-size: 100%;\n",
        "      }\n",
        "    \n",
        "    .prompt{\n",
        "        display: None;\n",
        "    }\n",
        "    .warning{\n",
        "        color: rgb( 240, 20, 20 )\n",
        "        }  \n",
        "</style>\n",
        "<script>\n",
        "    MathJax.Hub.Config({\n",
        "                        TeX: {\n",
        "                           extensions: [\"AMSmath.js\"]\n",
        "                           },\n",
        "                tex2jax: {\n",
        "                    inlineMath: [ ['$','$'], [\"\\\\(\",\"\\\\)\"] ],\n",
        "                    displayMath: [ ['$$','$$'], [\"\\\\[\",\"\\\\]\"] ]\n",
        "                },\n",
        "                displayAlign: 'center', // Change this to 'center' to center equations.\n",
        "                \"HTML-CSS\": {\n",
        "                    styles: {'.MathJax_Display': {\"margin\": 4}}\n",
        "                }\n",
        "        });\n",
        "</script>\n"
       ],
       "metadata": {},
       "output_type": "pyout",
       "prompt_number": 74,
       "text": [
        "<IPython.core.display.HTML at 0xd3958d0>"
       ]
      }
     ],
     "prompt_number": 74
    }
   ],
   "metadata": {}
  }
 ]
}