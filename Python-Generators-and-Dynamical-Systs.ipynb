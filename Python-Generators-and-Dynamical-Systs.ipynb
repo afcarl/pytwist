{
 "metadata": {
  "name": "",
  "signature": "sha256:812bfca593aacab955be550b4b4ac3459065eb79943021c63bc7b7d672c98923"
 },
 "nbformat": 3,
 "nbformat_minor": 0,
 "worksheets": [
  {
   "cells": [
    {
     "cell_type": "heading",
     "level": 2,
     "metadata": {},
     "source": [
      "<center>Python Generators in Numerical Study of Discrete Dynamical Systems</center>"
     ]
    },
    {
     "cell_type": "markdown",
     "metadata": {},
     "source": [
      "In this IPython Notebook we present generators as an excelent tool provided by Python for computational mathematics in general, and for the numerical study of \n",
      "discrete dynamical systems in particular. "
     ]
    },
    {
     "cell_type": "markdown",
     "metadata": {},
     "source": [
      "Generators functions form a special class of functions. In order to understand objects that are returned by these functions we recall  a few details about iterable objects and   iterators in Python.\n",
      "\n"
     ]
    },
    {
     "cell_type": "markdown",
     "metadata": {},
     "source": [
      "A container in Python  is an object that contains other objects (example of containers are lists, tuples, strings, files, etc).  \n",
      "\n",
      "A container, `Cont`, is  iterable if it is allowed to run over its items \n",
      "with a <tt>for</tt> statement:\n",
      "<pre>\n",
      "for item in  Cont:\n",
      "    print(item)\n",
      "</pre>\n",
      "The lists, strings and tuples are iterable objects.  Dictionaries and files are also iterable."
     ]
    },
    {
     "cell_type": "markdown",
     "metadata": {},
     "source": [
      "Iteration is the process of accessing and returning  one item  at a time from a container."
     ]
    },
    {
     "cell_type": "markdown",
     "metadata": {},
     "source": [
      "Examples:"
     ]
    },
    {
     "cell_type": "code",
     "collapsed": false,
     "input": [
      "from __future__ import print_function"
     ],
     "language": "python",
     "metadata": {},
     "outputs": [],
     "prompt_number": 82
    },
    {
     "cell_type": "code",
     "collapsed": false,
     "input": [
      "L=[2, 5, 1]#list\n",
      "for k in L:\n",
      "    print(k)"
     ],
     "language": "python",
     "metadata": {},
     "outputs": [
      {
       "output_type": "stream",
       "stream": "stdout",
       "text": [
        "2\n",
        "5\n",
        "1\n"
       ]
      }
     ],
     "prompt_number": 83
    },
    {
     "cell_type": "code",
     "collapsed": false,
     "input": [
      "S=\"string\"\n",
      "for c in S:\n",
      "   print(c)\n"
     ],
     "language": "python",
     "metadata": {},
     "outputs": [
      {
       "output_type": "stream",
       "stream": "stdout",
       "text": [
        "s\n",
        "t\n",
        "r\n",
        "i\n",
        "n\n",
        "g\n"
       ]
      }
     ],
     "prompt_number": 84
    },
    {
     "cell_type": "code",
     "collapsed": false,
     "input": [
      "T=(4, 9, 7)#tuple\n",
      "for t in T:\n",
      "    print(t)"
     ],
     "language": "python",
     "metadata": {},
     "outputs": [
      {
       "output_type": "stream",
       "stream": "stdout",
       "text": [
        "4\n",
        "9\n",
        "7\n"
       ]
      }
     ],
     "prompt_number": 85
    },
    {
     "cell_type": "markdown",
     "metadata": {},
     "source": [
      "The iteration over a dictionary  `d` returns the keys:"
     ]
    },
    {
     "cell_type": "code",
     "collapsed": false,
     "input": [
      "d={'lst': [4,7,1], 'today': 'monday', 'nr': 10}\n",
      "\n",
      "for item in d:\n",
      "    print(item)"
     ],
     "language": "python",
     "metadata": {},
     "outputs": [
      {
       "output_type": "stream",
       "stream": "stdout",
       "text": [
        "lst\n",
        "nr\n",
        "today\n"
       ]
      }
     ],
     "prompt_number": 87
    },
    {
     "cell_type": "markdown",
     "metadata": {},
     "source": [
      "An iteration over a file object returns the file's lines:"
     ]
    },
    {
     "cell_type": "code",
     "collapsed": false,
     "input": [
      "f=open(\"toyfile.txt\")# f is a file object i.e.  a container for the file's lines \n",
      "for line in f:\n",
      "    print(line)"
     ],
     "language": "python",
     "metadata": {},
     "outputs": [
      {
       "output_type": "stream",
       "stream": "stdout",
       "text": [
        "this is the first line\n",
        "\n",
        "second line\n",
        "\n",
        "final line\n",
        "\n"
       ]
      }
     ],
     "prompt_number": 88
    },
    {
     "cell_type": "markdown",
     "metadata": {},
     "source": [
      "The above examples are built-in iterable objects  in Python. \n"
     ]
    },
    {
     "cell_type": "heading",
     "level": 3,
     "metadata": {},
     "source": [
      "Iterators"
     ]
    },
    {
     "cell_type": "markdown",
     "metadata": {},
     "source": [
      " Intuitively, an iterator is an object that produces a stream of items,  according to a prescribed protocol.  \n",
      "\n",
      "From the programming language point of view an  iterator is an object of a class that has the methods `__iter__`, and `__next__`. By the  iterator protocol these methods act as follows:\n",
      "\n",
      "The `__iter__` method returns the iterator object itself, and the `__next__` method returns the next item of the stream.\n",
      "\n"
     ]
    },
    {
     "cell_type": "markdown",
     "metadata": {},
     "source": [
      "How does a container, that is an iterable object, relate with an iterator?\n",
      "\n",
      "The built-in function `iter` takes  a container and returns an iterator."
     ]
    },
    {
     "cell_type": "markdown",
     "metadata": {},
     "source": [
      "In all the above examples,  `for item in Cont` launches the iterator protocol.\n",
      " The `for` statement calls `iter()` on the container object. \n",
      "\n",
      "  -  `iter(Cont)` is an iterator object and by calling  the `next()` method \n",
      "    are accessed the  container's items, one at a time. \n",
      "\n",
      "  - When there are no more items, `next()`\n",
      "    raises a `StopIteration` exception,  which  forces the `for` loop to terminate.\n",
      "   "
     ]
    },
    {
     "cell_type": "markdown",
     "metadata": {},
     "source": [
      "Let us explicitly call `iter()` on the list, L,  and file object f, defined above:\n"
     ]
    },
    {
     "cell_type": "code",
     "collapsed": false,
     "input": [
      "itL=iter(L)\n",
      "print (itL.next(), itL.next(), itL.next())"
     ],
     "language": "python",
     "metadata": {},
     "outputs": [
      {
       "output_type": "stream",
       "stream": "stdout",
       "text": [
        "2 5 1\n"
       ]
      }
     ],
     "prompt_number": 89
    },
    {
     "cell_type": "code",
     "collapsed": false,
     "input": [
      "Itf=iter(f)#iterator associated  to the file object f\n",
      "\n",
      "print (Itf.next())"
     ],
     "language": "python",
     "metadata": {},
     "outputs": [
      {
       "ename": "StopIteration",
       "evalue": "",
       "output_type": "pyerr",
       "traceback": [
        "\u001b[1;31m---------------------------------------------------------------------------\u001b[0m\n\u001b[1;31mStopIteration\u001b[0m                             Traceback (most recent call last)",
        "\u001b[1;32m<ipython-input-90-6e3b9f371c5b>\u001b[0m in \u001b[0;36m<module>\u001b[1;34m()\u001b[0m\n\u001b[0;32m      1\u001b[0m \u001b[0mItf\u001b[0m\u001b[1;33m=\u001b[0m\u001b[0miter\u001b[0m\u001b[1;33m(\u001b[0m\u001b[0mf\u001b[0m\u001b[1;33m)\u001b[0m\u001b[1;31m#iterator associated  to the file object f\u001b[0m\u001b[1;33m\u001b[0m\u001b[0m\n\u001b[0;32m      2\u001b[0m \u001b[1;33m\u001b[0m\u001b[0m\n\u001b[1;32m----> 3\u001b[1;33m \u001b[1;32mprint\u001b[0m \u001b[1;33m(\u001b[0m\u001b[0mItf\u001b[0m\u001b[1;33m.\u001b[0m\u001b[0mnext\u001b[0m\u001b[1;33m(\u001b[0m\u001b[1;33m)\u001b[0m\u001b[1;33m)\u001b[0m\u001b[1;33m\u001b[0m\u001b[0m\n\u001b[0m",
        "\u001b[1;31mStopIteration\u001b[0m: "
       ]
      }
     ],
     "prompt_number": 90
    },
    {
     "cell_type": "markdown",
     "metadata": {},
     "source": [
      "We notice that  calling three times the next() method for the iterator associated to the list, L,\n",
      " all three  items are successively returned, while a single call `Itf.next()`  for the iterator associated to the file object, raises the `StopIteration`\n",
      "exception. This means that the stream of lines was exhausted when we called `for line in f`, and no \n",
      " line can be accessed again.\n",
      "\n",
      "\n",
      "If we reopen the file its lines are also accessible:\n"
     ]
    },
    {
     "cell_type": "code",
     "collapsed": false,
     "input": [
      "itf=iter(open('toyfile.txt'))\n",
      "for _ in xrange(3):\n",
      "    print(itf.next())\n"
     ],
     "language": "python",
     "metadata": {},
     "outputs": [
      {
       "output_type": "stream",
       "stream": "stdout",
       "text": [
        "this is the first line\n",
        "\n",
        "second line\n",
        "\n",
        "final line\n",
        "\n"
       ]
      }
     ],
     "prompt_number": 91
    },
    {
     "cell_type": "markdown",
     "metadata": {},
     "source": [
      "Hence the  iterators associated to built-in containers can exhibit  different behaviours. While the lists can be iterated as many times as we want, a file can be iterated only once."
     ]
    },
    {
     "cell_type": "markdown",
     "metadata": {},
     "source": [
      "The reader can experiment the behavior of the iterators `iter(S)`, `iter(T)`, and `iter(d)`, associated to the string S,\n",
      "tuple, T, and dictionary, d, defined above."
     ]
    },
    {
     "cell_type": "markdown",
     "metadata": {},
     "source": [
      "We conclude that:"
     ]
    },
    {
     "cell_type": "markdown",
     "metadata": {},
     "source": [
      "Iterables are objects that define an iterator when they are passed to the `iter()` built-in function."
     ]
    },
    {
     "cell_type": "heading",
     "level": 3,
     "metadata": {},
     "source": [
      "Generators"
     ]
    },
    {
     "cell_type": "markdown",
     "metadata": {},
     "source": [
      "Generators functions provide a  powerful tool for creating iterators."
     ]
    },
    {
     "cell_type": "markdown",
     "metadata": {},
     "source": [
      "A generator function is defined as any function in Python using `def`. A function is a generator function if it contains one or more  <tt> yield </tt>  statements within its body."
     ]
    },
    {
     "cell_type": "markdown",
     "metadata": {},
     "source": [
      "The generator function below will generate  the multiple of 3  of positive integer numbers, less than $n$:"
     ]
    },
    {
     "cell_type": "code",
     "collapsed": false,
     "input": [
      "def gen_mult3(n):\n",
      "    k=0\n",
      "    while (k<n):\n",
      "        yield 3*k\n",
      "        k+=1"
     ],
     "language": "python",
     "metadata": {},
     "outputs": [],
     "prompt_number": 92
    },
    {
     "cell_type": "markdown",
     "metadata": {},
     "source": [
      "The first call of the generator function defines a generator, i.e. a  particular iterator object:"
     ]
    },
    {
     "cell_type": "code",
     "collapsed": false,
     "input": [
      "G=gen_mult3(5)\n",
      "print(G)"
     ],
     "language": "python",
     "metadata": {},
     "outputs": [
      {
       "output_type": "stream",
       "stream": "stdout",
       "text": [
        "<generator object gen_mult3 at 0x00000000043CF828>\n"
       ]
      }
     ],
     "prompt_number": 93
    },
    {
     "cell_type": "markdown",
     "metadata": {},
     "source": [
      "After this call  the numbers 0, 3, 6, 9, 12 are not yet generated as we could expect."
     ]
    },
    {
     "cell_type": "markdown",
     "metadata": {},
     "source": [
      "Iterating the generator G (which is an iterator), by calling successively `G.next()`,\n",
      " these numbers are produced one at atime, and at the sixth call a `StopIteration` exception is raised because the generator exhausted:"
     ]
    },
    {
     "cell_type": "code",
     "collapsed": false,
     "input": [
      "for _ in range(6):\n",
      "    print( G.next() )"
     ],
     "language": "python",
     "metadata": {},
     "outputs": [
      {
       "output_type": "stream",
       "stream": "stdout",
       "text": [
        "0\n",
        "3\n",
        "6\n",
        "9\n",
        "12\n"
       ]
      },
      {
       "ename": "StopIteration",
       "evalue": "",
       "output_type": "pyerr",
       "traceback": [
        "\u001b[1;31m---------------------------------------------------------------------------\u001b[0m\n\u001b[1;31mStopIteration\u001b[0m                             Traceback (most recent call last)",
        "\u001b[1;32m<ipython-input-94-d3d7dfa40120>\u001b[0m in \u001b[0;36m<module>\u001b[1;34m()\u001b[0m\n\u001b[0;32m      1\u001b[0m \u001b[1;32mfor\u001b[0m \u001b[0m_\u001b[0m \u001b[1;32min\u001b[0m \u001b[0mrange\u001b[0m\u001b[1;33m(\u001b[0m\u001b[1;36m6\u001b[0m\u001b[1;33m)\u001b[0m\u001b[1;33m:\u001b[0m\u001b[1;33m\u001b[0m\u001b[0m\n\u001b[1;32m----> 2\u001b[1;33m     \u001b[1;32mprint\u001b[0m\u001b[1;33m(\u001b[0m \u001b[0mG\u001b[0m\u001b[1;33m.\u001b[0m\u001b[0mnext\u001b[0m\u001b[1;33m(\u001b[0m\u001b[1;33m)\u001b[0m \u001b[1;33m)\u001b[0m\u001b[1;33m\u001b[0m\u001b[0m\n\u001b[0m",
        "\u001b[1;31mStopIteration\u001b[0m: "
       ]
      }
     ],
     "prompt_number": 94
    },
    {
     "cell_type": "markdown",
     "metadata": {},
     "source": [
      "A generator makes a lazzy evaluation, meaning that  it yields a value (an object) only  on demand\n",
      "(when it is needed)."
     ]
    },
    {
     "cell_type": "markdown",
     "metadata": {},
     "source": [
      "In order to understand the difference between a Python generator function and a regular function, we recall how behaves\n",
      "a regular function that contains at least  a <tt>return </tt> statement. \n",
      "\n",
      "At each call of a regular function a private namespace is associated. \n",
      "When a  return line is reached in execution,  the local variables are destroyed\n",
      "and the computed object (value) is returned.\n",
      "\n"
     ]
    },
    {
     "cell_type": "markdown",
     "metadata": {},
     "source": [
      "In the case of a generator, after each  yielded value (with `yield`) the function freezes, i.e. \n",
      "     stops its execution. When it is called again, it resumes its execution at the point where it stopped (it \"remembers\"  the last yielded value, and the last executed  statement)."
     ]
    },
    {
     "cell_type": "markdown",
     "metadata": {},
     "source": [
      "To illustrate this behaviour, we insert a few  `print` lines in the definition of the generator function above:"
     ]
    },
    {
     "cell_type": "code",
     "collapsed": false,
     "input": [
      "def Gen_mult3(n):\n",
      "    print( ' this is the first line of the generator function' )\n",
      "    k=0\n",
      "    while (k<n):\n",
      "        print ( 'line before yield' )\n",
      "        yield 3*k\n",
      "        print ( 'line after yield' )\n",
      "        k+=1\n",
      "    print( 'this is the last line of the generator function')    "
     ],
     "language": "python",
     "metadata": {},
     "outputs": [],
     "prompt_number": 95
    },
    {
     "cell_type": "markdown",
     "metadata": {},
     "source": [
      "Define the generator:"
     ]
    },
    {
     "cell_type": "code",
     "collapsed": false,
     "input": [
      "gen=Gen_mult3(3)"
     ],
     "language": "python",
     "metadata": {},
     "outputs": [],
     "prompt_number": 96
    },
    {
     "cell_type": "markdown",
     "metadata": {},
     "source": [
      "Running the above cell no string was printed. Hence at the first call the generator  is only created  and no line of the function's body is executed."
     ]
    },
    {
     "cell_type": "markdown",
     "metadata": {},
     "source": [
      "Now we start iterating the generator `gen`:"
     ]
    },
    {
     "cell_type": "code",
     "collapsed": false,
     "input": [
      "print (gen.next())"
     ],
     "language": "python",
     "metadata": {},
     "outputs": [
      {
       "output_type": "stream",
       "stream": "stdout",
       "text": [
        " this is the first line of the generator function\n",
        "line before yield\n",
        "0\n"
       ]
      }
     ],
     "prompt_number": 97
    },
    {
     "cell_type": "code",
     "collapsed": false,
     "input": [
      "print (gen.next())"
     ],
     "language": "python",
     "metadata": {},
     "outputs": [
      {
       "output_type": "stream",
       "stream": "stdout",
       "text": [
        "line after yield\n",
        "line before yield\n",
        "3\n"
       ]
      }
     ],
     "prompt_number": 98
    },
    {
     "cell_type": "code",
     "collapsed": false,
     "input": [
      "print (gen.next())"
     ],
     "language": "python",
     "metadata": {},
     "outputs": [
      {
       "output_type": "stream",
       "stream": "stdout",
       "text": [
        "line after yield\n",
        "line before yield\n",
        "6\n"
       ]
      }
     ],
     "prompt_number": 99
    },
    {
     "cell_type": "code",
     "collapsed": false,
     "input": [
      "print(gen.next())"
     ],
     "language": "python",
     "metadata": {},
     "outputs": [
      {
       "output_type": "stream",
       "stream": "stdout",
       "text": [
        "line after yield\n",
        "this is the last line of the generator function\n"
       ]
      },
      {
       "ename": "StopIteration",
       "evalue": "",
       "output_type": "pyerr",
       "traceback": [
        "\u001b[1;31m---------------------------------------------------------------------------\u001b[0m\n\u001b[1;31mStopIteration\u001b[0m                             Traceback (most recent call last)",
        "\u001b[1;32m<ipython-input-100-1a3c5c9fbf3d>\u001b[0m in \u001b[0;36m<module>\u001b[1;34m()\u001b[0m\n\u001b[1;32m----> 1\u001b[1;33m \u001b[1;32mprint\u001b[0m\u001b[1;33m(\u001b[0m\u001b[0mgen\u001b[0m\u001b[1;33m.\u001b[0m\u001b[0mnext\u001b[0m\u001b[1;33m(\u001b[0m\u001b[1;33m)\u001b[0m\u001b[1;33m)\u001b[0m\u001b[1;33m\u001b[0m\u001b[0m\n\u001b[0m",
        "\u001b[1;31mStopIteration\u001b[0m: "
       ]
      }
     ],
     "prompt_number": 100
    },
    {
     "cell_type": "markdown",
     "metadata": {},
     "source": [
      "Note that Python generators do not give  access to previously generated items,\n",
      "unless the user  explicitly stored them in some container  (for example in  a list).\n",
      "\n",
      "If we want to iterate again over data produced by a  generator  we  have to\n",
      "re-call the generator function, i.e to re-define the generator."
     ]
    },
    {
     "cell_type": "markdown",
     "metadata": {},
     "source": [
      "Here is an example of storing the generated values in a list:"
     ]
    },
    {
     "cell_type": "code",
     "collapsed": false,
     "input": [
      "ge=gen_mult3(6)\n",
      "L=[ge.next() for _ in xrange(6)]\n",
      "print(L)"
     ],
     "language": "python",
     "metadata": {},
     "outputs": [
      {
       "output_type": "stream",
       "stream": "stdout",
       "text": [
        "[0, 3, 6, 9, 12, 15]\n"
       ]
      }
     ],
     "prompt_number": 101
    },
    {
     "cell_type": "markdown",
     "metadata": {},
     "source": [
      "A built-in generator is `xrange`.  While `range(start, stop, step)` returns a list:"
     ]
    },
    {
     "cell_type": "code",
     "collapsed": false,
     "input": [
      "print(type(range(10)), range(10))"
     ],
     "language": "python",
     "metadata": {},
     "outputs": [
      {
       "output_type": "stream",
       "stream": "stdout",
       "text": [
        "<type 'list'> [0, 1, 2, 3, 4, 5, 6, 7, 8, 9]\n"
       ]
      }
     ],
     "prompt_number": 102
    },
    {
     "cell_type": "markdown",
     "metadata": {},
     "source": [
      "`xrange(start, stop, step)` is a generator function, which could  have an implementation like this:\n",
      "     "
     ]
    },
    {
     "cell_type": "code",
     "collapsed": false,
     "input": [
      "def my_xrange(stop, start=0, step=1):\n",
      "    while start < stop:\n",
      "        yield start\n",
      "        start += step "
     ],
     "language": "python",
     "metadata": {},
     "outputs": [],
     "prompt_number": 103
    },
    {
     "cell_type": "markdown",
     "metadata": {},
     "source": [
      "When `stop` is a large integer  (for example `stop=100000`),  calling `for _ in range(stop)` leads to the creation of a large list, while\n",
      "`for _ in xrange(stop)` will produce an index `k`, `k<stop`, one at a time, and no storing is performed."
     ]
    },
    {
     "cell_type": "heading",
     "level": 3,
     "metadata": {},
     "source": [
      "Python generators in Computational Mathematics"
     ]
    },
    {
     "cell_type": "markdown",
     "metadata": {},
     "source": [
      "Generators allow  to deal with infinite streams of \"mathematical objects\"."
     ]
    },
    {
     "cell_type": "markdown",
     "metadata": {},
     "source": [
      "For example, a sequence of real or complex numbers is an infinite mathematical object.\n",
      "\n",
      "Let $a_n=\\left(1+\\displaystyle\\frac{1}{n}\\right)^n$, $n\\geq 1$, be the sequence that is known as being convergent to the  number e.\n",
      "\n",
      "Its terms can be generated by the folowing generator function:"
     ]
    },
    {
     "cell_type": "code",
     "collapsed": false,
     "input": [
      "def genseq_e():\n",
      "   n=1\n",
      "   while True:\n",
      "      a=(1.0+1.0/n)**n\n",
      "      yield a\n",
      "      n+=1\n",
      "      "
     ],
     "language": "python",
     "metadata": {},
     "outputs": [],
     "prompt_number": 104
    },
    {
     "cell_type": "markdown",
     "metadata": {},
     "source": [
      "Suppose if we want to see how far is $a_{1000}$ from the sequence's limit, $e$.  To generate $a_{1000}$ we simply can\n",
      "iterate the generator `G=genseq_e()`:"
     ]
    },
    {
     "cell_type": "code",
     "collapsed": false,
     "input": [
      "G=genseq_e()\n",
      "for _ in range(1, 1000):\n",
      "    G.next()  \n",
      "    # the last generated value is a999\n",
      "a1000=G.next()    "
     ],
     "language": "python",
     "metadata": {},
     "outputs": [],
     "prompt_number": 105
    },
    {
     "cell_type": "code",
     "collapsed": false,
     "input": [
      "import math"
     ],
     "language": "python",
     "metadata": {},
     "outputs": [],
     "prompt_number": 106
    },
    {
     "cell_type": "code",
     "collapsed": false,
     "input": [
      "print ( a1000, math.exp(1), math.fabs(a1000-math.exp(1.0)) )"
     ],
     "language": "python",
     "metadata": {},
     "outputs": [
      {
       "output_type": "stream",
       "stream": "stdout",
       "text": [
        "2.71692393224 2.71828182846 0.00135789622345\n"
       ]
      }
     ],
     "prompt_number": 107
    },
    {
     "cell_type": "markdown",
     "metadata": {},
     "source": [
      "A more elegant solution is to  slice the infinite generator, using `itertools.islice`\n",
      " [https://docs.python.org/2/library/itertools.html](https://docs.python.org/2/library/itertools.html).\n",
      "\n",
      "`itertools` is a  Python module that contains functions for creating iterators. In particular it allows \n",
      " to work  effectively with generators.\n",
      "\n",
      "\n",
      "When a generator is iterated, the values returned by `G.next()` are counted like the items in any Python sequence.\n",
      "\n",
      "The slice\n",
      "<center> `itertools.islice(generator, start, stop, step )`,  </center>\n",
      "    \n",
      " (where `start`, `stop`, and `step` have the same significance as  for the built-in generator\n",
      "`xrange(start, stop, step)`),\n",
      "is an iterator that produces the generator values (objects) counted from index equal to `start`.\n",
      "\n",
      "The iterator `itertools.islice(generator, n)`    is supposed to have  `start=0`, `stop=n`, and  `step=1`.                                                           "
     ]
    },
    {
     "cell_type": "markdown",
     "metadata": {},
     "source": [
      "Hence to get the term $a_{1000}$ of the sequence $a_n$, we proceed as follows:"
     ]
    },
    {
     "cell_type": "code",
     "collapsed": false,
     "input": [
      "from itertools import islice"
     ],
     "language": "python",
     "metadata": {},
     "outputs": [],
     "prompt_number": 108
    },
    {
     "cell_type": "code",
     "collapsed": false,
     "input": [
      "gg=genseq_e()\n",
      "a1000=islice(gg, 999, 1000).next()\n",
      "print ( a1000, math.exp(1), math.fabs(a1000-math.exp(1.0)) )"
     ],
     "language": "python",
     "metadata": {},
     "outputs": [
      {
       "output_type": "stream",
       "stream": "stdout",
       "text": [
        "2.71692393224 2.71828182846 0.00135789622345\n"
       ]
      }
     ],
     "prompt_number": 109
    },
    {
     "cell_type": "markdown",
     "metadata": {},
     "source": [
      "Python generators can be defined in many contexts of the Computational Math, but here we show how they can be defined and manipulated to study a discrete dynamical system.\n",
      "\n",
      "In this [IPython Notebook](http://nbviewer.ipython.org/github/empet/Math/blob/master/Winding-Number.ipynb) we defined a  generator to animate \n",
      "the movement of a point on a closed curve."
     ]
    },
    {
     "cell_type": "heading",
     "level": 3,
     "metadata": {},
     "source": [
      "Python generators in the  study of discrete dynamical systems"
     ]
    },
    {
     "cell_type": "markdown",
     "metadata": {},
     "source": [
      "A discrete dynamical system on the space $\\mathbb{R}^m$,  is defined usually by a one-to-one\n",
      "differentiable map $f:\\mathbb{R}^m\\to\\mathbb{R}^m$. If $x_0\\in\\mathbb{R}^m$ is the initial state, its orbit or trajectory  is the sequence  $(x_n)_{n\\in\\mathbb{N}}$, with $x_n=f^n(x_0)$, where $f^n$, $n\\geq 1$,  is the $n^{th}$ iterate of the map.\n",
      "\n",
      "The goal of the dynamical system theory is to understand the asymptotic behaviour of  systems' orbits.\n",
      "\n",
      "In the case of a two-dimensional dynamical system we can plot a set of orbits, and the visual representation we get is called  the *phase portrait* of that system."
     ]
    },
    {
     "cell_type": "markdown",
     "metadata": {},
     "source": [
      "In order to illustrate the asymptotic behaviour of an orbit or to draw the phase portrait of a two-dimensional dynamical system, it is very useful to define a generator\n",
      "for an orbit.\n",
      "\n",
      "The generator will produce one point at a time or if it is  necessary, we can take a slice in the infinite generator and store its points in a `list` or a `numpy.array`."
     ]
    },
    {
     "cell_type": "markdown",
     "metadata": {},
     "source": [
      "Experimenting with generator functions that generate points on an orbit,   we deduced that there is a trick in the process of  creation of a list of points resulted by iterating a  slice in that generator.\n",
      "\n",
      "To illustrate how we were lead to that trick  we define a generator of an orbit  for a version of the [H&eacute;non map](http://en.wikipedia.org/wiki/H%C3%A9non_map): \n",
      "\n",
      "$$(x,y)\\mapsto(y, 1-1.4 y^2+0.3x)$$\n",
      "\n"
     ]
    },
    {
     "cell_type": "code",
     "collapsed": false,
     "input": [
      "def gen_Henon(pt0):#pt0 is the initial point given as 2-list\n",
      "    if not isinstance(pt0, list):\n",
      "        raise ValueError(\"pt0 must be a list\")\n",
      "    pt=pt0[:]#shallow copy of pt0; \n",
      "    while True:\n",
      "        yield pt\n",
      "        tmp=pt[0]\n",
      "        pt[0]=pt[1]\n",
      "        pt[1]=1-1.4*pt[1]**2+0.3*tmp\n",
      "    "
     ],
     "language": "python",
     "metadata": {},
     "outputs": [],
     "prompt_number": 110
    },
    {
     "cell_type": "code",
     "collapsed": false,
     "input": [
      "pt0=[0.0, 0.0]\n",
      "G=gen_Henon(pt0)"
     ],
     "language": "python",
     "metadata": {},
     "outputs": [],
     "prompt_number": 111
    },
    {
     "cell_type": "markdown",
     "metadata": {},
     "source": [
      "Let us iterate a   slice in this generator:"
     ]
    },
    {
     "cell_type": "code",
     "collapsed": false,
     "input": [
      "for pt in islice(G, 5, 8):\n",
      "    print (pt)"
     ],
     "language": "python",
     "metadata": {},
     "outputs": [
      {
       "output_type": "stream",
       "stream": "stdout",
       "text": [
        "[-0.7408864000000001, 0.554322279213056]\n",
        "[0.554322279213056, 0.3475516150752599]\n",
        "[0.3475516150752599, 0.9971877085659265]\n"
       ]
      }
     ],
     "prompt_number": 112
    },
    {
     "cell_type": "markdown",
     "metadata": {},
     "source": [
      "Usually to plot an orbit of some length we store the orbit points  in a list, and plot the orbit with a single call of `plt.scatter`, instead of plotting one point at a time as it is generated.\n",
      "\n",
      "Trying to store the above three points in a list created by comprehension, we notice that the list\n",
      "contains only the last point, displayed three times:"
     ]
    },
    {
     "cell_type": "code",
     "collapsed": false,
     "input": [
      "G=gen_Henon(pt0)# to reiterate the slice we have to call the generator function again\n",
      "L1=[pt for pt in islice(G, 5, 8)]\n",
      "print(L1)"
     ],
     "language": "python",
     "metadata": {},
     "outputs": [
      {
       "output_type": "stream",
       "stream": "stdout",
       "text": [
        "[[0.3475516150752599, 0.9971877085659265], [0.3475516150752599, 0.9971877085659265], [0.3475516150752599, 0.9971877085659265]]\n"
       ]
      }
     ],
     "prompt_number": 113
    },
    {
     "cell_type": "markdown",
     "metadata": {},
     "source": [
      "Another attempt that fails:"
     ]
    },
    {
     "cell_type": "code",
     "collapsed": false,
     "input": [
      "G=gen_Henon(pt0)\n",
      "L2=[islice(G, 5, 8).next() for _ in range(3)]\n",
      "print(L2)"
     ],
     "language": "python",
     "metadata": {},
     "outputs": [
      {
       "output_type": "stream",
       "stream": "stdout",
       "text": [
        "[[1.179660509719045, -1.0363734689401003], [1.179660509719045, -1.0363734689401003], [1.179660509719045, -1.0363734689401003]]\n"
       ]
      }
     ],
     "prompt_number": 114
    },
    {
     "cell_type": "markdown",
     "metadata": {},
     "source": [
      "Why does the iteration work well when we only iterate the generator, but it fails when trying to create a list from items resulted from the iteration?"
     ]
    },
    {
     "cell_type": "markdown",
     "metadata": {},
     "source": [
      "The same drawback is manifested when we define the generator function with the argument\n",
      " `pt0`  given as a `numpy.array`,\n",
      "and replace the line `pt=pt0[:]` with `pt=pt0.copy()`."
     ]
    },
    {
     "cell_type": "markdown",
     "metadata": {},
     "source": [
      "After  trial and error experimentation we got  a correct list of items   in the following way:"
     ]
    },
    {
     "cell_type": "code",
     "collapsed": false,
     "input": [
      "pt0=[0.0, 0.0]\n",
      "G=gen_Henon(pt0)\n",
      "L3=[list(pt) for pt in islice(G, 5, 8)]\n",
      "print(L3)"
     ],
     "language": "python",
     "metadata": {},
     "outputs": [
      {
       "output_type": "stream",
       "stream": "stdout",
       "text": [
        "[[-0.7408864000000001, 0.554322279213056], [0.554322279213056, 0.3475516150752599], [0.3475516150752599, 0.9971877085659265]]\n"
       ]
      }
     ],
     "prompt_number": 115
    },
    {
     "cell_type": "markdown",
     "metadata": {},
     "source": [
      "This behaviour is really strange, because each `pt` was a list object and this conversion seems\n",
      "to be redundant."
     ]
    },
    {
     "cell_type": "markdown",
     "metadata": {},
     "source": [
      "A similar good result we get converting each `pt` to a `numpy.array`:"
     ]
    },
    {
     "cell_type": "code",
     "collapsed": false,
     "input": [
      "import numpy as np"
     ],
     "language": "python",
     "metadata": {},
     "outputs": [],
     "prompt_number": 117
    },
    {
     "cell_type": "code",
     "collapsed": false,
     "input": [
      "G=gen_Henon(pt0)\n",
      "L4=[np.array(pt) for pt in islice(G, 5, 8)]\n",
      "print(L4)"
     ],
     "language": "python",
     "metadata": {},
     "outputs": [
      {
       "output_type": "stream",
       "stream": "stdout",
       "text": [
        "[array([-0.7408864 ,  0.55432228]), array([ 0.55432228,  0.34755162]), array([ 0.34755162,  0.99718771])]\n"
       ]
      }
     ],
     "prompt_number": 118
    },
    {
     "cell_type": "markdown",
     "metadata": {},
     "source": [
      "A third solution is to explicitly set the type of the object to be  yielded by the generator:"
     ]
    },
    {
     "cell_type": "code",
     "collapsed": false,
     "input": [
      "def gen_Henon_new(pt0):\n",
      "    if not isinstance(pt0, list):\n",
      "        raise ValueError(\"pt0 must be a list\")\n",
      "    pt=pt0[:]#shallow copy of pt0; \n",
      "    while True:\n",
      "        yield pt\n",
      "        tmp=pt[0]\n",
      "        pt=[pt[1], 1-1.4*pt[1]**2+0.3*tmp]#pt is explicitly set as list\n",
      "       \n",
      "    "
     ],
     "language": "python",
     "metadata": {},
     "outputs": [],
     "prompt_number": 119
    },
    {
     "cell_type": "code",
     "collapsed": false,
     "input": [
      "G=gen_Henon_new(pt0)\n",
      "L5=[pt for pt in islice(G, 5,8)]\n",
      "print (L5)"
     ],
     "language": "python",
     "metadata": {},
     "outputs": [
      {
       "output_type": "stream",
       "stream": "stdout",
       "text": [
        "[[-0.7408864000000001, 0.554322279213056], [0.554322279213056, 0.3475516150752599], [0.3475516150752599, 0.9971877085659265]]\n"
       ]
      }
     ],
     "prompt_number": 120
    },
    {
     "cell_type": "markdown",
     "metadata": {},
     "source": [
      "We note that when the yielded object  is explicitly set as list, no conversion is needed when we store\n",
      "the items resulted from the iteration."
     ]
    },
    {
     "cell_type": "markdown",
     "metadata": {},
     "source": [
      "Let us check this observed particularity for another generator."
     ]
    },
    {
     "cell_type": "markdown",
     "metadata": {},
     "source": [
      "Namely, we define the generator of pairs of consecutive terms in [Fibonacci sequence](http://en.wikipedia.org/wiki/Fibonacci_number): "
     ]
    },
    {
     "cell_type": "code",
     "collapsed": false,
     "input": [
      "def pair_fibonacci(a=1, b=1):\n",
      "    while True:\n",
      "        yield (a,b)# the yielded object is explicitly set as a tuple\n",
      "        a, b = b, a+b\n"
     ],
     "language": "python",
     "metadata": {},
     "outputs": [],
     "prompt_number": 121
    },
    {
     "cell_type": "code",
     "collapsed": false,
     "input": [
      "genp=pair_fibonacci()\n",
      "L=[pair for pair in islice(genp, 1,15)]\n",
      "print (L)"
     ],
     "language": "python",
     "metadata": {},
     "outputs": [
      {
       "output_type": "stream",
       "stream": "stdout",
       "text": [
        "[(1, 2), (2, 3), (3, 5), (5, 8), (8, 13), (13, 21), (21, 34), (34, 55), (55, 89), (89, 144), (144, 233), (233, 377), (377, 610), (610, 987)]\n"
       ]
      }
     ],
     "prompt_number": 122
    },
    {
     "cell_type": "markdown",
     "metadata": {},
     "source": [
      "The sequence $(p_n, q_n)$,  with $p_1=1, q_1=2$, of pairs produced by this generator defines the  convergents, \n",
      "$p_n/q_n$, of the continued fraction expansion of the inverse $1/\\phi$ of the [golden ratio](http://mathworld.wolfram.com/GoldenRatio.html)\n",
      "$\\phi=(1+\\sqrt{5})/2$.\n",
      "\n",
      "In the study of [dynamics of twist maps](http://amath.colorado.edu/pub/dynamics/papers/Raglan2011_pt2.pdf), these pairs represent the rotation numbers\n",
      "of the periodic orbits, converging to the invariant 1-dimensional torus having the rotation number,\n",
      "$1/\\phi$."
     ]
    },
    {
     "cell_type": "markdown",
     "metadata": {},
     "source": [
      "Now we illustrate the phase portrait of the [standard map](http://www.scholarpedia.org/article/Chirikov_standard_map) with orbits generated by a generator function."
     ]
    },
    {
     "cell_type": "markdown",
     "metadata": {},
     "source": [
      " The standard  map, $f$, is defined on the infinite annulus $\\mathbb{S}^1\\times \\mathbb{R}$.\n",
      "$\\mathbb{S}^1$ is the unit circle identified with the interval $[0,1)$ or any other real \n",
      "                                                                  interval of length 1.\n",
      "                                                                \n",
      "$f$ maps $(x,y)$ to $(x', y')$, where:\n",
      "\n",
      "$$ \\begin{align}\n",
      "x'&= x+y'\\: (modulo\\: 1)\\\\\n",
      "y'&= y-\\displaystyle\\frac{\\epsilon}{2\\pi}\\sin(2\\pi x), \\quad \\epsilon\\in\\mathbb{R}\n",
      "\\end{align}$$\n",
      "\n"
     ]
    },
    {
     "cell_type": "code",
     "collapsed": false,
     "input": [
      "import matplotlib.pyplot as plt"
     ],
     "language": "python",
     "metadata": {},
     "outputs": [],
     "prompt_number": 123
    },
    {
     "cell_type": "code",
     "collapsed": false,
     "input": [
      "def moduloAB(x, a, b):\n",
      "        if a>=b:\n",
      "           raise ValueError('Incorrect interval ends')\n",
      "        y=(x-a)%(b-a)\n",
      "        if y<0: return y+b\n",
      "        else: return y+a\n",
      "        "
     ],
     "language": "python",
     "metadata": {},
     "outputs": [],
     "prompt_number": 124
    },
    {
     "cell_type": "code",
     "collapsed": false,
     "input": [
      "def stdmap(pt):\n",
      "    global eps\n",
      "    pt[1]-=eps*np.sin(2*np.pi*pt[0])/(2.0*np.pi)\n",
      "    pt[0]=moduloAB(pt[0]+pt[1], -0.5, 0.5)\n",
      "    return pt"
     ],
     "language": "python",
     "metadata": {},
     "outputs": [],
     "prompt_number": 125
    },
    {
     "cell_type": "markdown",
     "metadata": {},
     "source": [
      "We define a generator for this map, and a function that returns a list containing the points of an orbit:"
     ]
    },
    {
     "cell_type": "code",
     "collapsed": false,
     "input": [
      "def gen_stdmap(pt0) :\n",
      "    if not isinstance(pt0, list):\n",
      "        raise ValueError(\"pt0 must be a list\")\n",
      "    pt=pt0[:]\n",
      "    while True:\n",
      "        yield pt\n",
      "        pt=stdmap(pt)# here pt is not explicitly defined as a list"
     ],
     "language": "python",
     "metadata": {},
     "outputs": [],
     "prompt_number": 126
    },
    {
     "cell_type": "code",
     "collapsed": false,
     "input": [
      "def orbit_stdmap(pt0, n):\n",
      "    G=gen_stdmap(pt0)\n",
      "    return np.array([list(G.next()) for _ in xrange(n)]) #conversion   list(G.next())  is needed for\n",
      "                                                          # a right result"
     ],
     "language": "python",
     "metadata": {},
     "outputs": [],
     "prompt_number": 127
    },
    {
     "cell_type": "markdown",
     "metadata": {},
     "source": [
      "First let us check that the function `orbit_stdmap` works correctly:"
     ]
    },
    {
     "cell_type": "code",
     "collapsed": false,
     "input": [
      "eps= 0.971635#  define the global parameter for the standard map\n",
      "pt0=[0, 0.57]\n",
      "A=orbit_stdmap(pt0, 10)\n",
      "print(A[:4])"
     ],
     "language": "python",
     "metadata": {},
     "outputs": [
      {
       "output_type": "stream",
       "stream": "stdout",
       "text": [
        "[[ 0.          0.57      ]\n",
        " [-0.43        0.57      ]\n",
        " [ 0.20584273  0.63584273]\n",
        " [-0.30704121  0.48711606]]\n"
       ]
      }
     ],
     "prompt_number": 128
    },
    {
     "cell_type": "markdown",
     "metadata": {},
     "source": [
      "In the sequel  we plot interactively a few orbits of the standard map, corresponding to the fixed parameter $\\epsilon$.\n",
      "Each orbit is colored with a color from a list of colors that is  cyclically iterated."
     ]
    },
    {
     "cell_type": "code",
     "collapsed": false,
     "input": [
      "from itertools import cycle"
     ],
     "language": "python",
     "metadata": {},
     "outputs": [],
     "prompt_number": 130
    },
    {
     "cell_type": "code",
     "collapsed": false,
     "input": [
      "cols=['#005a32', '#238b45', '#41ab5d', '#74c476', '#a1d99b', '#c7e9c0', '#e5f5e0']# the list of colors\n",
      "colors=cycle(cols)# colors= cyclic iterator"
     ],
     "language": "python",
     "metadata": {},
     "outputs": [],
     "prompt_number": 131
    },
    {
     "cell_type": "markdown",
     "metadata": {},
     "source": [
      "The starting point of each orbit is chosen with a   left mouse button click  within the pop-up window\n",
      "that opens when running the cell bellow. \n",
      "\n",
      "When we have drawn a sufficient number of orbits such that \n",
      "to see  how the phase portrait\n",
      "looks, we press the right button of the mouse and the plot is saved as an image.\n",
      "\n",
      "Then we close the window and run the next cell to display the saved image."
     ]
    },
    {
     "cell_type": "code",
     "collapsed": false,
     "input": [
      "def click(event):\n",
      "   #If the left mouse button is pressed: draw an orbit\n",
      "   tb = plt.get_current_fig_manager().toolbar\n",
      "   n=3000\n",
      "    \n",
      "   if event.button==1 and event.inaxes and tb.mode == '':\n",
      "       x,y = event.xdata,event.ydata\n",
      "       pt0=[x,y]\n",
      "       Pts=orbit_stdmap(pt0, n)\n",
      "       plt.scatter(Pts[:,0], Pts[:,1],  s=0.1,  color=colors.next())  #color='#DF0101'=red\n",
      "      \n",
      "       plt.draw()\n",
      "   else:\n",
      "        plt.savefig('Imags/stdmap.png')\n",
      "#############################3\n",
      "\n",
      "fig = plt.figure(figsize=(6, 4))\n",
      "ax = fig.add_subplot(111)\n",
      "ax.set_axis_bgcolor('#2B2B2B')\n",
      "ax.set_xlim([-0.5, 0.5])\n",
      "ax.set_ylim([-0.5, 1])\n",
      "\n",
      "ax.set_autoscale_on(False)\n",
      "\n",
      "plt.connect('button_press_event',click)\n",
      "plt.show()\n"
     ],
     "language": "python",
     "metadata": {},
     "outputs": [],
     "prompt_number": 132
    },
    {
     "cell_type": "code",
     "collapsed": false,
     "input": [
      "from IPython.display import Image\n",
      "Image(filename='Imags/stdmap.png')"
     ],
     "language": "python",
     "metadata": {},
     "outputs": [
      {
       "metadata": {},
       "output_type": "pyout",
       "png": "[encoded data removed]",
       "prompt_number": 133,
       "text": [
        "<IPython.core.display.Image at 0xa338f60>"
       ]
      }
     ],
     "prompt_number": 133
    },
    {
     "cell_type": "markdown",
     "metadata": {},
     "source": [
      "The  generator of an orbit can be used for plotting a (chaotic) attractor of a discrete dynamical system, that is\n",
      "a set $A\\subset\\mathbb{R}^2$, such that for any point $x_0$ sufficiently close to $A$, the distance\n",
      "between the $n^{th}$ point, $x_n=f^n(x_0)$, of its orbit and $A$ tends to 0, as $n\\to\\infty$."
     ]
    },
    {
     "cell_type": "heading",
     "level": 3,
     "metadata": {},
     "source": [
      "Ikeda Attractor"
     ]
    },
    {
     "cell_type": "markdown",
     "metadata": {},
     "source": [
      "[Ikeda map](http://en.wikipedia.org/wiki/Ikeda_map) is a chaotic map of the two dimensional space $\\mathbb{R}^2$ into itself. Its expression can be summarized\n",
      "in complex plane by $f(z)= A+Bze^{i(C+D/(||z||^2+1)}$ \n",
      "\n",
      "We define the generator function of an orbit of the Ikeda map, corresponding to  particular parameters $A,B,C,D$, for which the map\n",
      "exhibits a chaotic attractor.\n",
      "\n",
      "We plot  a slice into a long orbit, neglecting the first 300 points, to ensure that the remaining points approach attractor very well."
     ]
    },
    {
     "cell_type": "code",
     "collapsed": false,
     "input": [
      "%matplotlib inline"
     ],
     "language": "python",
     "metadata": {},
     "outputs": [],
     "prompt_number": 134
    },
    {
     "cell_type": "code",
     "collapsed": false,
     "input": [
      "def gen_Ikeda(z0):\n",
      "    z=z0\n",
      "    while True:\n",
      "        yield z\n",
      "        z=0.97+0.9*z*np.exp(1j*(0.4-6/(np.abs(z)**2+1)))"
     ],
     "language": "python",
     "metadata": {},
     "outputs": [],
     "prompt_number": 135
    },
    {
     "cell_type": "code",
     "collapsed": false,
     "input": [
      "z0=0.0+1j*0\n",
      "gik=gen_Ikeda(z0)\n",
      "aIkeda=np.array([z for z in islice(gik, 300, 20000)])"
     ],
     "language": "python",
     "metadata": {},
     "outputs": [],
     "prompt_number": 136
    },
    {
     "cell_type": "code",
     "collapsed": false,
     "input": [
      "fig = plt.figure(figsize=(6, 6))\n",
      "ax = fig.add_subplot(111)\n",
      "\n",
      "plt.scatter(aIkeda.real, aIkeda.imag, color= '#b6212d', s=0.1)   "
     ],
     "language": "python",
     "metadata": {},
     "outputs": [
      {
       "metadata": {},
       "output_type": "pyout",
       "prompt_number": 137,
       "text": [
        "<matplotlib.collections.PathCollection at 0xc622b38>"
       ]
      },
      {
       "metadata": {},
       "output_type": "display_data",
       "png": "[encoded data removed]",
       "text": [
        "<matplotlib.figure.Figure at 0xa88d5c0>"
       ]
      }
     ],
     "prompt_number": 137
    },
    {
     "cell_type": "heading",
     "level": 3,
     "metadata": {},
     "source": [
      "Generator for an IFS  fractal"
     ]
    },
    {
     "cell_type": "markdown",
     "metadata": {},
     "source": [
      "Generators are also useful for generating points of a fractal defined by an [IFS](http://en.wikipedia.org/wiki/Iterated_function_system) or an IFS with probabilities, \n",
      "that is a finite number of affine contractions, that are chosen according to an assigned probability.\n",
      "\n"
     ]
    },
    {
     "cell_type": "markdown",
     "metadata": {},
     "source": [
      "An affine map, $\\mathcal{A}$, defined on the two-dimensional plane is defined by a $2\\times 2$ matrix $T$, and  a point  $P(a_0, a_1)$:\n",
      "    \n",
      "  $$\\left[\\begin{array}{c} x\\\\y\\end{array}\\right] \\mapsto P+ T\\left[\\begin{array}{c} x\\\\y\\end{array}\\right]$$ "
     ]
    },
    {
     "cell_type": "markdown",
     "metadata": {},
     "source": [
      "The fractal set defined by an IFS consisting in n affine contractions, $C_0, C_1, \\ldots, C_{n-1}$, is an invariant set $A$ of the IFS, that is:\n",
      "    $$A=\\bigcup_{k=0}^{n-1}C_k(A)$$"
     ]
    },
    {
     "cell_type": "markdown",
     "metadata": {},
     "source": [
      "We give the parameters of a contraction as a `numpy.array` of shape (6,). The first four entries correspond to the matrix $T$, and the last two entries are the coordinates of the point $P$."
     ]
    },
    {
     "cell_type": "markdown",
     "metadata": {},
     "source": [
      "Next we plot a fractal which is the attractor of an IFS consisting in three contractions with probabilities:"
     ]
    },
    {
     "cell_type": "code",
     "collapsed": false,
     "input": [
      "C=[np.array([.4398,  .2848,  .007, .4958,   20.27824, 23.51717]),\n",
      "np.array( [-.2303, .7265, .2381 , .0952,   32.82897,  11.46771]),\n",
      "np.array([ -.3898, .5371, .4751, .5017, 15.75347,  -5.22511])]"
     ],
     "language": "python",
     "metadata": {},
     "outputs": [],
     "prompt_number": 138
    },
    {
     "cell_type": "code",
     "collapsed": false,
     "input": [
      "pr=[ .2507,  .2262,  .5231]#probabilities"
     ],
     "language": "python",
     "metadata": {},
     "outputs": [],
     "prompt_number": 139
    },
    {
     "cell_type": "markdown",
     "metadata": {},
     "source": [
      "Starting with an initial point `pt0`, one computes $\\ldots C_{i_m}\\circ C_{i_{m-1}}\\circ\\cdots \\circ C_{i_0}(pt0)$,\n",
      "where each contraction $C_{i_k}$ is chosen according to the discrete probability distribution on the set of contractions' indices $[0,1,2]$,  of probabilities $pr[0], pr[1], pr[2]$."
     ]
    },
    {
     "cell_type": "code",
     "collapsed": false,
     "input": [
      "from numpy.random import choice"
     ],
     "language": "python",
     "metadata": {},
     "outputs": [],
     "prompt_number": 140
    },
    {
     "cell_type": "code",
     "collapsed": false,
     "input": [
      "ind=np.arange(3)# indices for the contractions C[0], C[1], C[2]"
     ],
     "language": "python",
     "metadata": {},
     "outputs": [],
     "prompt_number": 141
    },
    {
     "cell_type": "code",
     "collapsed": false,
     "input": [
      "def gen_IFS(pt0):\n",
      "    pt=pt0\n",
      "    while True:\n",
      "        yield pt\n",
      "        i=choice(ind, p=pr)# choose the contraction according to the discrete \n",
      "                           # probability distribution on the set of  contractions' indices\n",
      "        pt=np.dot(C[i][:4].reshape(2,2), pt)+C[i][4:]"
     ],
     "language": "python",
     "metadata": {},
     "outputs": [],
     "prompt_number": 142
    },
    {
     "cell_type": "code",
     "collapsed": false,
     "input": [
      "    \n",
      "pt0=np.zeros(2, float)\n",
      "G=gen_IFS(pt0)\n",
      "attractor=np.array([pt  for pt in islice(G, 1000, 15000)])\n",
      "\n",
      "fig = plt.figure(figsize=(6, 6))\n",
      "ax = fig.add_subplot(111)\n",
      "plt.scatter(attractor[:,0], attractor[:,1], color= '#00A300', s=0.1)     #'#00CC00' lighter green"
     ],
     "language": "python",
     "metadata": {},
     "outputs": [
      {
       "metadata": {},
       "output_type": "pyout",
       "prompt_number": 143,
       "text": [
        "<matplotlib.collections.PathCollection at 0xcc00400>"
       ]
      },
      {
       "metadata": {},
       "output_type": "display_data",
       "png": "[encoded data removed]",
       "text": [
        "<matplotlib.figure.Figure at 0xa87ad30>"
       ]
      }
     ],
     "prompt_number": 143
    },
    {
     "cell_type": "markdown",
     "metadata": {},
     "source": [
      "Another application of generator functions in the study of discrete dynamical systems can be in the\n",
      "computation of the derivative of the map defining the system, along an orbit, $(x_n)$, that is:\n",
      "    $$Df^n(x_0)=Df(x_{n-1})\\cdots  Df(x_1) Df(x_0)$$\n",
      "   The derivative along a long orbit is needed for  computing the Lyapunov exponent  of that orbit  or in the case of twist maps such as the standard  map, to derive the stability type of a periodic orbit."
     ]
    },
    {
     "cell_type": "markdown",
     "metadata": {},
     "source": [
      "If `gen_orbit(pt0)` is the generator of an orbit, `jacobian(pt0)` is the matrix representing the derivative\n",
      "`Df(pt0)`, then the generator for the derivative along the orbit starting at `pt0` would be defined as follows:"
     ]
    },
    {
     "cell_type": "code",
     "collapsed": false,
     "input": [
      "def gen_Deriv(pt0):\n",
      "        J=np.eye(2)\n",
      "        while True: \n",
      "            J=np.dot(jacobian(gen_orbit(pt0).next()),J)\n",
      "            yield J        "
     ],
     "language": "python",
     "metadata": {},
     "outputs": [],
     "prompt_number": 145
    },
    {
     "cell_type": "markdown",
     "metadata": {},
     "source": [
      " `islice(gen_deriv, n-1, n).next()` is the matrix of the derivative  $Df^n$`(pt0)`."
     ]
    },
    {
     "cell_type": "markdown",
     "metadata": {},
     "source": [
      "Emilia Petrisor, 11/26/2014"
     ]
    },
    {
     "cell_type": "code",
     "collapsed": false,
     "input": [
      "from IPython.core.display import HTML\n",
      "def  css_styling():\n",
      "    styles = open(\"./styles/custom.css\", \"r\").read()\n",
      "    return HTML(styles)\n",
      "css_styling()"
     ],
     "language": "python",
     "metadata": {},
     "outputs": [
      {
       "html": [
        "<style>\n",
        "        div.cell{\n",
        "        width:800px;\n",
        "        margin-left:16% !important;\n",
        "        margin-right:auto;\n",
        "    }\n",
        "    h1 {\n",
        "        font-family: 'Alegreya Sans', sans-serif;\n",
        "    }\n",
        "    \n",
        "    h2 {\n",
        "        font-family: 'Fenix', serif;\n",
        "        text-indent:1em;\n",
        "    }\n",
        "    .text_cell_render h2 {\n",
        "        font-weight: 200;\n",
        "        font-size: 20pt;\n",
        "        line-height: 100%;\n",
        "        margin-bottom: 1.5em;\n",
        "        margin-top: 0.5em;\n",
        "        display: block;\n",
        "    }\n",
        "    h3 {\n",
        "        font-family: 'Fenix', serif;\n",
        "        %margin-top:12px;\n",
        "        %margin-bottom: 3px;\n",
        "    }\n",
        "    .text_cell_render h3 {\n",
        "        font-weight: 300;\n",
        "        font-size: 18pt;\n",
        "        line-height: 100%;\n",
        "        margin-bottom: 0.5em;\n",
        "        margin-top: 2em;\n",
        "        display: block;\n",
        "    }\n",
        "    h4 {\n",
        "        font-family: 'Fenix', serif;\n",
        "    }\n",
        "    .text_cell_render h4 {\n",
        "        font-weight: 300;\n",
        "        font-size: 16pt;\n",
        "        margin-bottom: 0.5em;\n",
        "        margin-top: 0.5em;\n",
        "        display: block;\n",
        "    }\n",
        "    h5 {\n",
        "        font-family: 'Alegreya Sans', sans-serif;\n",
        "    }\n",
        "    .text_cell_render h5 {\n",
        "        font-weight: 300;\n",
        "        font-style: normal;\n",
        "        font-size: 16pt;\n",
        "        margin-bottom: 0em;\n",
        "        margin-top: 1.5em;\n",
        "        display: block;\n",
        "        }\n",
        "    \n",
        "    div.text_cell_render{\n",
        "        %font-family: Computer Modern, \"Helvetica Neue\", Arial, Helvetica, Geneva, sans-serif;\n",
        "        font-family: 'Alegreya Sans',Computer Modern, \"Helvetica Neue\", Arial, Helvetica, Geneva, sans-serif;\n",
        "        line-height: 145%;\n",
        "        font-size: 130%;\n",
        "        width:800px;\n",
        "        margin-left:auto;\n",
        "        margin-right:auto;\n",
        "    }\n",
        "    blockquote{\n",
        "      display:block;\n",
        "      background: #f3f3f3;\n",
        "      font-family: \"Open sans\",verdana,arial,sans-serif;\n",
        "      width:610px;\n",
        "      padding: 15px 15px 15px 15px;\n",
        "      text-align:justify;\n",
        "      text-justify:inter-word;\n",
        "      }\n",
        "      blockquote p {\n",
        "        margin-bottom: 0;\n",
        "        line-height: 125%;\n",
        "        font-size: 100%;\n",
        "      }\n",
        "    \n",
        "    .prompt{\n",
        "        display: None;\n",
        "    }\n",
        "    .warning{\n",
        "        color: rgb( 240, 20, 20 )\n",
        "        }  \n",
        "</style>\n",
        "<script>\n",
        "    MathJax.Hub.Config({\n",
        "                        TeX: {\n",
        "                           extensions: [\"AMSmath.js\"]\n",
        "                           },\n",
        "                tex2jax: {\n",
        "                    inlineMath: [ ['$','$'], [\"\\\\(\",\"\\\\)\"] ],\n",
        "                    displayMath: [ ['$$','$$'], [\"\\\\[\",\"\\\\]\"] ]\n",
        "                },\n",
        "                displayAlign: 'center', // Change this to 'center' to center equations.\n",
        "                \"HTML-CSS\": {\n",
        "                    styles: {'.MathJax_Display': {\"margin\": 4}}\n",
        "                }\n",
        "        });\n",
        "</script>\n"
       ],
       "metadata": {},
       "output_type": "pyout",
       "prompt_number": 146,
       "text": [
        "<IPython.core.display.HTML at 0xc629278>"
       ]
      }
     ],
     "prompt_number": 146
    }
   ],
   "metadata": {}
  }
 ]
}